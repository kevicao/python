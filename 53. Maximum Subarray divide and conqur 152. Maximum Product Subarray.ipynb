{
 "cells": [
  {
   "cell_type": "code",
   "execution_count": 22,
   "metadata": {},
   "outputs": [
    {
     "name": "stdout",
     "output_type": "stream",
     "text": [
      "[-2, 1, -3, 4, -1, 2, 1, -5, 4]\n",
      "[-2, 1, -3, 4]\n",
      "[-2, 1]\n",
      "[-3, 4]\n",
      "[-1, 2, 1, -5, 4]\n",
      "[-1, 2]\n",
      "[1, -5, 4]\n",
      "[-5, 4]\n"
     ]
    },
    {
     "data": {
      "text/plain": [
       "6"
      ]
     },
     "execution_count": 22,
     "metadata": {},
     "output_type": "execute_result"
    }
   ],
   "source": [
    "#https://www.geeksforgeeks.org/maximum-subarray-sum-using-divide-and-conquer-algorithm/\n",
    "def max_subarray(L):\n",
    "    if len(L) == 1:\n",
    "        return L[0]\n",
    "    elif len(L) == 0:\n",
    "        return -10000   \n",
    "    else: \n",
    "        print(L)\n",
    "        mid = len(L)//2\n",
    "        left = max_subarray(L[:mid])\n",
    "        right = max_subarray(L[mid:])\n",
    "        #cross \n",
    "        sm = 0\n",
    "        left_sum = -10000\n",
    "        for i in range(mid, -1, -1) : \n",
    "            sm = sm + L[i] \n",
    "            if (sm > left_sum) : \n",
    "                left_sum = sm        \n",
    "        \n",
    "        # Include elements on right of mid \n",
    "        sm = 0; right_sum = -1000\n",
    "        for i in range(mid + 1, len(L)) : \n",
    "            sm = sm + L[i] \n",
    "\n",
    "            if (sm > right_sum) : \n",
    "                right_sum = sm \n",
    "                \n",
    "        # Return sum of elements on left and right of mid \n",
    "        \n",
    "        return max(left_sum + right_sum, left, right)      \n",
    "            \n",
    "        \n",
    "max_subarray([-2,1,-3,4,-1,2,1,-5,4])   \n",
    "# max_subarray([2, 3, 4, 5, 7]) "
   ]
  },
  {
   "cell_type": "code",
   "execution_count": 13,
   "metadata": {},
   "outputs": [
    {
     "name": "stdout",
     "output_type": "stream",
     "text": [
      "Given array is\n",
      "12 11 13 5 6 7 \n",
      "[12, 11, 13]\n",
      "[5, 6, 7]\n",
      "arr is [12, 11, 13, 5, 6, 7]\n",
      "[12]\n",
      "[11, 13]\n",
      "arr is [12, 11, 13]\n",
      "[11]\n",
      "[13]\n",
      "arr is [11, 13]\n",
      "[5]\n",
      "[6, 7]\n",
      "arr is [5, 6, 7]\n",
      "[6]\n",
      "[7]\n",
      "arr is [6, 7]\n",
      "Sorted array is: \n",
      "5 6 7 11 12 13 \n"
     ]
    }
   ],
   "source": [
    "# Python program for implementation of MergeSort \n",
    "def mergeSort(arr): \n",
    "    if len(arr) >1: \n",
    "        mid = len(arr)//2 #Finding the mid of the array \n",
    "        L = arr[:mid] # Dividing the array elements  \n",
    "        R = arr[mid:] # into 2 halves \n",
    "        print(L)\n",
    "        print(R)\n",
    "        print('arr is', arr)\n",
    "  \n",
    "        mergeSort(L) # Sorting the first half \n",
    "        mergeSort(R) # Sorting the second half \n",
    "  \n",
    "        i = j = k = 0\n",
    "          \n",
    "        # Copy data to temp arrays L[] and R[] \n",
    "        while i < len(L) and j < len(R): \n",
    "            if L[i] < R[j]: \n",
    "                arr[k] = L[i] \n",
    "                i+=1\n",
    "            else: \n",
    "                arr[k] = R[j] \n",
    "                j+=1\n",
    "            k+=1\n",
    "          \n",
    "        # Checking if any element was left \n",
    "        while i < len(L): \n",
    "            arr[k] = L[i] \n",
    "            i+=1\n",
    "            k+=1\n",
    "          \n",
    "        while j < len(R): \n",
    "            arr[k] = R[j] \n",
    "            j+=1\n",
    "            k+=1\n",
    "            \n",
    "# Code to print the list \n",
    "def printList(arr): \n",
    "    for i in range(len(arr)):         \n",
    "        print(arr[i],end=\" \") \n",
    "    print() \n",
    "    \n",
    "# driver code to test the above code \n",
    "if __name__ == '__main__': \n",
    "    arr = [12, 11, 13, 5, 6, 7]  \n",
    "    print (\"Given array is\", end=\"\\n\")  \n",
    "    printList(arr) \n",
    "    mergeSort(arr) \n",
    "    print(\"Sorted array is: \", end=\"\\n\") \n",
    "    printList(arr) \n",
    "  "
   ]
  },
  {
   "cell_type": "markdown",
   "metadata": {},
   "source": [
    "# max product subarray"
   ]
  },
  {
   "cell_type": "code",
   "execution_count": 4,
   "metadata": {},
   "outputs": [
    {
     "data": {
      "text/plain": [
       "12"
      ]
     },
     "execution_count": 4,
     "metadata": {},
     "output_type": "execute_result"
    }
   ],
   "source": [
    "\n",
    "def maxProduct(A):\n",
    "    if len(A) == 0:\n",
    "        return 0\n",
    "\n",
    "    ret = curMax = curMin = A[0]\n",
    "    \n",
    "    for i in range(len(A)): \n",
    "        temp= curMax\n",
    "        curMax = max(max(curMax*A[i], curMin*A[i]),A[i])\n",
    "        curMin = min(min(temp*A[i], curMin*A[i]),A[i])\n",
    "        ret = max(ret, curMax)\n",
    "    \n",
    "    return ret\n",
    "\n",
    "maxProduct([2,3,-2,4])\n"
   ]
  },
  {
   "cell_type": "code",
   "execution_count": 2,
   "metadata": {},
   "outputs": [
    {
     "data": {
      "text/plain": [
       "0"
      ]
     },
     "execution_count": 2,
     "metadata": {},
     "output_type": "execute_result"
    }
   ],
   "source": [
    "a = b = c = 0\n",
    "b\n"
   ]
  },
  {
   "cell_type": "code",
   "execution_count": null,
   "metadata": {},
   "outputs": [],
   "source": []
  }
 ],
 "metadata": {
  "kernelspec": {
   "display_name": "Python 3",
   "language": "python",
   "name": "python3"
  },
  "language_info": {
   "codemirror_mode": {
    "name": "ipython",
    "version": 3
   },
   "file_extension": ".py",
   "mimetype": "text/x-python",
   "name": "python",
   "nbconvert_exporter": "python",
   "pygments_lexer": "ipython3",
   "version": "3.7.3"
  }
 },
 "nbformat": 4,
 "nbformat_minor": 2
}
