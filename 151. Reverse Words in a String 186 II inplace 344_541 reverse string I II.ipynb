{
 "cells": [
  {
   "cell_type": "code",
   "execution_count": null,
   "metadata": {},
   "outputs": [],
   "source": [
    "#inplace solution\n",
    "#reverse each word first\n",
    "#reverse whole string "
   ]
  },
  {
   "cell_type": "code",
   "execution_count": 9,
   "metadata": {},
   "outputs": [
    {
     "name": "stdout",
     "output_type": "stream",
     "text": [
      "['b', 'a', 'c', 'd', 'f', 'e', 'g']\n"
     ]
    }
   ],
   "source": [
    "#541\n",
    "\n",
    "def reverse_k(L, k):\n",
    "    i = 0\n",
    "    if len(L) == 0 or len(L) == 1:\n",
    "        return L\n",
    "    else:\n",
    "        while i < len(L):           \n",
    "            j = min(i+k-1, len(L))\n",
    "            L = reverse(L, i, j)\n",
    "            i = i+2*k\n",
    "    return L\n",
    "            \n",
    "def reverse(L, i, j):\n",
    "    while i < j:\n",
    "        tmp = L[i]\n",
    "        L[i] = L[j]\n",
    "        L[j] = tmp\n",
    "        i += 1\n",
    "        j -= 1\n",
    "        \n",
    "    return L\n",
    "L = [\"a\",\"b\",\"c\",\"d\",\"e\",\"f\",\"g\"]\n",
    "k = 2  #\"bacdfeg\"\n",
    "print(reverse_k(L,2))\n"
   ]
  },
  {
   "cell_type": "code",
   "execution_count": null,
   "metadata": {},
   "outputs": [],
   "source": []
  }
 ],
 "metadata": {
  "kernelspec": {
   "display_name": "Python 3",
   "language": "python",
   "name": "python3"
  },
  "language_info": {
   "codemirror_mode": {
    "name": "ipython",
    "version": 3
   },
   "file_extension": ".py",
   "mimetype": "text/x-python",
   "name": "python",
   "nbconvert_exporter": "python",
   "pygments_lexer": "ipython3",
   "version": "3.7.3"
  }
 },
 "nbformat": 4,
 "nbformat_minor": 2
}
