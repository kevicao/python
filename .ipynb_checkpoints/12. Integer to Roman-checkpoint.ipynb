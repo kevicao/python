{
 "cells": [
  {
   "cell_type": "code",
   "execution_count": 10,
   "metadata": {},
   "outputs": [
    {
     "name": "stdout",
     "output_type": "stream",
     "text": [
      "III\n",
      "IV\n",
      "IX\n",
      "LVIII\n",
      "MCMXCIV\n",
      "XLI\n"
     ]
    }
   ],
   "source": [
    "def ITR(n):\n",
    "    units = [1000, 900, 500, 400, 100, 90, 50, 40, 10, 9, 5, 4, 1]\n",
    "    mapping = {1000: 'M', 900:'CM', 500:'D', 400:'CD', 100:'C', 90:'XC', \n",
    "               50:'L', 40:'XL', 10:'X', 9:'IX', 5:'V', 4:'IV', 1:'I'}\n",
    "    exceptions = [4,9,40,90, 400, 900]\n",
    "    \n",
    "    res = ''\n",
    "    i = 0\n",
    "    while i < len(units) and n > 0:\n",
    "        integer = n//units[i]\n",
    "        n = n%units[i]\n",
    "        \n",
    "        res += mapping[units[i]]*integer\n",
    "        i += 1\n",
    "        \n",
    "    return res\n",
    "\n",
    "print(ITR(3)) #\"III\"\n",
    "print(ITR(4)) #\"IV\"\n",
    "print(ITR(9)) #\"IX\"\n",
    "print(ITR(58)) #\"LVIII\"\n",
    "print(ITR(1994)) #\"MCMXCIV\"\n",
    "print(ITR(41)) #XLI\n",
    "        "
   ]
  },
  {
   "cell_type": "code",
   "execution_count": 4,
   "metadata": {},
   "outputs": [
    {
     "data": {
      "text/plain": [
       "2"
      ]
     },
     "execution_count": 4,
     "metadata": {},
     "output_type": "execute_result"
    }
   ],
   "source": [
    "5//2"
   ]
  },
  {
   "cell_type": "code",
   "execution_count": 6,
   "metadata": {},
   "outputs": [
    {
     "data": {
      "text/plain": [
       "'iiib'"
      ]
     },
     "execution_count": 6,
     "metadata": {},
     "output_type": "execute_result"
    }
   ],
   "source": [
    "'i'*3 + 'b'"
   ]
  },
  {
   "cell_type": "code",
   "execution_count": null,
   "metadata": {
    "collapsed": true
   },
   "outputs": [],
   "source": []
  }
 ],
 "metadata": {
  "kernelspec": {
   "display_name": "Python 3",
   "language": "python",
   "name": "python3"
  },
  "language_info": {
   "codemirror_mode": {
    "name": "ipython",
    "version": 3
   },
   "file_extension": ".py",
   "mimetype": "text/x-python",
   "name": "python",
   "nbconvert_exporter": "python",
   "pygments_lexer": "ipython3",
   "version": "3.6.3"
  }
 },
 "nbformat": 4,
 "nbformat_minor": 2
}
