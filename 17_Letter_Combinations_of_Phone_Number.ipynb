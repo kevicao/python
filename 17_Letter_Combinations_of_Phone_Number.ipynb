{
 "cells": [
  {
   "cell_type": "code",
   "execution_count": 9,
   "metadata": {},
   "outputs": [
    {
     "data": {
      "text/plain": [
       "['ad', 'bd', 'cd', 'ae', 'be', 'ce', 'af', 'bf', 'cf']"
      ]
     },
     "execution_count": 9,
     "metadata": {},
     "output_type": "execute_result"
    }
   ],
   "source": [
    "d = {2:['a', 'b', 'c'],\n",
    "     3:['d', 'e', 'f'],\n",
    "     4:['g', 'h', 'i'],\n",
    "     5:['j', 'k', 'l'],\n",
    "     6:['m', 'n', 'o'],\n",
    "     7:['p', 'q', 'r', 's'],\n",
    "     8:['t', 'u', 'v'],\n",
    "     9:['w', 'x', 'y', 'z']\n",
    "    }\n",
    "\n",
    "def lcpn(L):\n",
    "    cb = []\n",
    "    for index, n in enumerate(L):\n",
    "        if index == 0:\n",
    "            cb = d[n]\n",
    "        else:\n",
    "            cb = backtrack(cb, n)\n",
    "    \n",
    "    return cb\n",
    "        \n",
    "def backtrack(cb, n):\n",
    "    tmp = []\n",
    "    for l in d[n]:\n",
    "        tmp = tmp + [x + l for x in cb]\n",
    "        \n",
    "    return tmp\n",
    "  \n",
    "lcpn([2,3])"
   ]
  },
  {
   "cell_type": "code",
   "execution_count": null,
   "metadata": {},
   "outputs": [],
   "source": []
  },
  {
   "cell_type": "code",
   "execution_count": null,
   "metadata": {},
   "outputs": [],
   "source": []
  }
 ],
 "metadata": {
  "kernelspec": {
   "display_name": "Python 3",
   "language": "python",
   "name": "python3"
  },
  "language_info": {
   "codemirror_mode": {
    "name": "ipython",
    "version": 3
   },
   "file_extension": ".py",
   "mimetype": "text/x-python",
   "name": "python",
   "nbconvert_exporter": "python",
   "pygments_lexer": "ipython3",
   "version": "3.6.5"
  }
 },
 "nbformat": 4,
 "nbformat_minor": 2
}
