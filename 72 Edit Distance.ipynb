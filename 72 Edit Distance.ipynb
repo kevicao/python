{
 "cells": [
  {
   "cell_type": "code",
   "execution_count": 16,
   "metadata": {},
   "outputs": [
    {
     "name": "stdout",
     "output_type": "stream",
     "text": [
      "[9, 8, 8, 8, 8, 8, 8, 7, 6, 5]\n",
      "[8, 7, 7, 7, 7, 7, 7, 6, 5, 6]\n",
      "[7, 6, 6, 6, 6, 6, 6, 5, 6, 7]\n",
      "[6, 5, 5, 5, 5, 5, 5, 6, 7, 8]\n",
      "[5, 4, 4, 4, 4, 5, 6, 7, 7, 7]\n",
      "[4, 3, 4, 3, 4, 5, 6, 6, 7, 8]\n",
      "[3, 3, 3, 3, 4, 5, 5, 6, 7, 8]\n",
      "[2, 2, 2, 3, 4, 5, 6, 7, 7, 7]\n",
      "[1, 1, 2, 3, 4, 5, 6, 6, 7, 8]\n",
      "[0, 1, 2, 3, 4, 5, 6, 7, 8, 9]\n"
     ]
    },
    {
     "data": {
      "text/plain": [
       "5"
      ]
     },
     "execution_count": 16,
     "metadata": {},
     "output_type": "execute_result"
    }
   ],
   "source": [
    "def ed(s1, s2):\n",
    "    mem = [[1000]*(len(s2)+1) for x in range(len(s1)+1)]\n",
    "    mem[-1] = [x for x in range(len(s2)+1)]\n",
    "    for i in range(len(s1)+1):\n",
    "        mem[len(s1)-i][0] = i\n",
    "    \n",
    "    for i in range(len(s1)-1, -1, -1):\n",
    "        for j in range(1, len(s2)+1):\n",
    "            if s1[len(s1) -1 - i] == s2[j-1]:\n",
    "                tmp = mem[i+1][j-1]\n",
    "            else:\n",
    "                tmp = mem[i+1][j-1] + 1\n",
    "                \n",
    "            mem[i][j] = min(mem[i+1][j]+1, mem[i][j-1]+1, tmp)\n",
    "    \n",
    "    for x in mem:\n",
    "        print(x)\n",
    "    return mem[0][-1]\n",
    "    \n",
    "ed('intention', 'execution')"
   ]
  },
  {
   "cell_type": "code",
   "execution_count": null,
   "metadata": {},
   "outputs": [],
   "source": []
  }
 ],
 "metadata": {
  "kernelspec": {
   "display_name": "Python 3",
   "language": "python",
   "name": "python3"
  },
  "language_info": {
   "codemirror_mode": {
    "name": "ipython",
    "version": 3
   },
   "file_extension": ".py",
   "mimetype": "text/x-python",
   "name": "python",
   "nbconvert_exporter": "python",
   "pygments_lexer": "ipython3",
   "version": "3.7.3"
  }
 },
 "nbformat": 4,
 "nbformat_minor": 2
}
