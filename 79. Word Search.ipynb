{
 "cells": [
  {
   "cell_type": "code",
   "execution_count": 8,
   "metadata": {},
   "outputs": [
    {
     "data": {
      "text/plain": [
       "True"
      ]
     },
     "execution_count": 8,
     "metadata": {},
     "output_type": "execute_result"
    }
   ],
   "source": [
    "#http://bangbingsyb.blogspot.com/2014/11/leetcode-word-search.html\n",
    "def exist(board, word):\n",
    "    if len(board) == 0 or len(board[0]) == 0 :\n",
    "        return false;\n",
    "    \n",
    "    visited = [[0]*len(board[0]) for x in range(len(board))]\n",
    "    \n",
    "    for i in range(len(board)):\n",
    "        for j in range(len(board[i])):\n",
    "            if findWord(board, visited, i, j, word, 0):\n",
    "                return True;\n",
    "        \n",
    "    return False;\n",
    "\n",
    "\n",
    "def findWord(board, visited, row, col, word, index):\n",
    "    if index == len(word): \n",
    "        return True\n",
    "    \n",
    "    if row<0 or col<0 or row>=len(board)\\\n",
    "            or col>= len(board[0]) or visited[row][col] or board[row][col]!=word[index]: \n",
    "        return False;\n",
    "\n",
    "    visited[row][col] = True;\n",
    "    if findWord(board, visited, row-1, col, word, index+1): return True  \n",
    "    if findWord(board, visited, row+1, col, word, index+1): return True\n",
    "    if findWord(board, visited, row, col-1, word, index+1): return True\n",
    "    if findWord(board, visited, row, col+1, word, index+1): return True\n",
    "    visited[row][col] = False\n",
    "    \n",
    "    return False\n",
    "\n",
    "board = [\n",
    "  ['A','B','C','E'],\n",
    "  ['S','F','C','S'],\n",
    "  ['A','D','E','E']\n",
    "]\n",
    "\n",
    "exist(board, 'ABCCED')\n",
    "exist(board, 'ABFDAS')"
   ]
  },
  {
   "cell_type": "code",
   "execution_count": null,
   "metadata": {},
   "outputs": [],
   "source": []
  }
 ],
 "metadata": {
  "kernelspec": {
   "display_name": "Python 3",
   "language": "python",
   "name": "python3"
  },
  "language_info": {
   "codemirror_mode": {
    "name": "ipython",
    "version": 3
   },
   "file_extension": ".py",
   "mimetype": "text/x-python",
   "name": "python",
   "nbconvert_exporter": "python",
   "pygments_lexer": "ipython3",
   "version": "3.7.3"
  }
 },
 "nbformat": 4,
 "nbformat_minor": 2
}
