{
 "cells": [
  {
   "cell_type": "code",
   "execution_count": 5,
   "metadata": {},
   "outputs": [
    {
     "name": "stdout",
     "output_type": "stream",
     "text": [
      "3\n",
      "-1\n"
     ]
    }
   ],
   "source": [
    "#min number of coins to make amount\n",
    "#https://leetcode.com/problems/coin-change/solution/\n",
    "\n",
    "#F(S)=F(S−C)+1, we do not now which coint (C) so that we need loop and take min\n",
    "\n",
    "def coinChange(coins, amount):\n",
    "    dp = [amount+1]*(amount+1)\n",
    "    dp[0] = 0\n",
    "    \n",
    "    for i in range(amount+1):\n",
    "        for j in range(len(coins)):\n",
    "            if coins[j] <= i:\n",
    "                dp[i] = min(dp[i], dp[i - coins[j]] + 1)\n",
    "\n",
    "    if dp[amount] > amount:\n",
    "        return -1\n",
    "    else:\n",
    "        return dp[amount]\n",
    "    \n",
    "print(coinChange([1, 2, 5], 11)) #3\n",
    "print(coinChange([2], 3))  # -1\n",
    "\n"
   ]
  },
  {
   "cell_type": "code",
   "execution_count": 9,
   "metadata": {},
   "outputs": [
    {
     "name": "stdout",
     "output_type": "stream",
     "text": [
      "0\n",
      "4\n",
      "1\n"
     ]
    }
   ],
   "source": [
    "# number of ways to make that number\n",
    "# Let us use dp[i] to denote the number of ways to sum up to amount i.\n",
    "# dp[i + coin] += dp[i]\n",
    "# https://zxi.mytechroad.com/blog/dynamic-programming/leetcode-518-coin-change-2/\n",
    "# https://www.cnblogs.com/python27/archive/2013/09/05/3303721.html\n",
    "\n",
    "def change(coins, amount):\n",
    "    dp = [1] + [0] * amount   \n",
    "    for coin in coins:\n",
    "        for i in range(amount - coin + 1):\n",
    "            if dp[i]:\n",
    "                dp[i + coin] += dp[i]\n",
    "                \n",
    "    return dp[amount]\n",
    "\n",
    "print(change([2],3)) #0\n",
    "print(change([5, 1, 2], 5))  #4\n",
    "print(change([10],10)) #1"
   ]
  },
  {
   "cell_type": "code",
   "execution_count": null,
   "metadata": {},
   "outputs": [],
   "source": []
  }
 ],
 "metadata": {
  "kernelspec": {
   "display_name": "Python 3",
   "language": "python",
   "name": "python3"
  },
  "language_info": {
   "codemirror_mode": {
    "name": "ipython",
    "version": 3
   },
   "file_extension": ".py",
   "mimetype": "text/x-python",
   "name": "python",
   "nbconvert_exporter": "python",
   "pygments_lexer": "ipython3",
   "version": "3.7.3"
  }
 },
 "nbformat": 4,
 "nbformat_minor": 2
}
