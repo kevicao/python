{
 "cells": [
  {
   "cell_type": "markdown",
   "metadata": {},
   "source": [
    "Example:\n",
    "\n",
    "Input: (2 -> 4 -> 3) + (5 -> 6 -> 4) <br>\n",
    "Output: 7 -> 0 -> 8\n",
    "Explanation: 342 + 465 = 807."
   ]
  },
  {
   "cell_type": "code",
   "execution_count": 12,
   "metadata": {},
   "outputs": [
    {
     "data": {
      "text/plain": [
       "[5, 6, 4]"
      ]
     },
     "execution_count": 12,
     "metadata": {},
     "output_type": "execute_result"
    }
   ],
   "source": [
    "int1 = [0]\n",
    "int2 = [5,6,4]\n",
    "\n",
    "def add_two_number(int1, int2):\n",
    "    if len(int1) >= len(int2):\n",
    "        long = int1\n",
    "        short = int2\n",
    "    else:\n",
    "        long = int2\n",
    "        short = int1\n",
    "        \n",
    "    res = []\n",
    "    carry = 0\n",
    "    for index in range(0,len(short)):        \n",
    "        res.append((short[index] + long[index] + carry)%10)\n",
    "        carry = int((short[index] + long[index] + carry)/10)\n",
    "    for index in range(len(short), len(long)):\n",
    "        res.append((long[index] + carry)%10)\n",
    "        carry = int((long[index] + carry)/10)\n",
    "    \n",
    "    return res \n",
    "\n",
    "add_two_number(int1,int2)"
   ]
  },
  {
   "cell_type": "code",
   "execution_count": 14,
   "metadata": {},
   "outputs": [
    {
     "data": {
      "text/plain": [
       "0.8853239043129038"
      ]
     },
     "execution_count": 14,
     "metadata": {},
     "output_type": "execute_result"
    }
   ],
   "source": [
    "20281.0/(20281+2627)"
   ]
  },
  {
   "cell_type": "code",
   "execution_count": null,
   "metadata": {},
   "outputs": [],
   "source": []
  }
 ],
 "metadata": {
  "kernelspec": {
   "display_name": "Python 3",
   "language": "python",
   "name": "python3"
  },
  "language_info": {
   "codemirror_mode": {
    "name": "ipython",
    "version": 3
   },
   "file_extension": ".py",
   "mimetype": "text/x-python",
   "name": "python",
   "nbconvert_exporter": "python",
   "pygments_lexer": "ipython3",
   "version": "3.6.5"
  }
 },
 "nbformat": 4,
 "nbformat_minor": 2
}
