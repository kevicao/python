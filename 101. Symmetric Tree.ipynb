{
 "cells": [
  {
   "cell_type": "code",
   "execution_count": null,
   "metadata": {},
   "outputs": [],
   "source": [
    "def isSymmetric(root): \n",
    "    return isMirror(root, root)\n",
    "\n",
    "\n",
    "def isMirror(t1, t2):\n",
    "    if t1 == null and t2 == null:\n",
    "        return True\n",
    "    \n",
    "    if t1 == null or t2 == null: \n",
    "        return False;\n",
    "    \n",
    "    return (t1.val == t2.val)\\\n",
    "        and isMirror(t1.right, t2.left)\\\n",
    "        and isMirror(t1.left, t2.right)\n",
    "\n",
    "isSymmetric([1,2,2,3,4,4,3])    "
   ]
  },
  {
   "cell_type": "code",
   "execution_count": 11,
   "metadata": {},
   "outputs": [
    {
     "name": "stdout",
     "output_type": "stream",
     "text": [
      "0 0\n",
      "2 1\n",
      "6 3\n",
      "14 7\n",
      "13 8\n",
      "5 4\n",
      "12 9\n",
      "11 10\n",
      "1 2\n",
      "4 5\n",
      "10 11\n",
      "9 12\n",
      "3 6\n",
      "8 13\n",
      "7 14\n"
     ]
    },
    {
     "data": {
      "text/plain": [
       "True"
      ]
     },
     "execution_count": 11,
     "metadata": {},
     "output_type": "execute_result"
    }
   ],
   "source": [
    "def isSymmetric(tree, root):\n",
    "    return isMirror(tree, root, root)\n",
    "\n",
    "\n",
    "def isMirror(tree, r1, r2):\n",
    "    print(r1, r2)\n",
    "    if (r1 >= len(tree) and r2 >= len(tree)) or (tree[r1] is None  and tree[r2] is None):\n",
    "        return True\n",
    "    \n",
    "    if tree[r1] is None or tree[r2] is None or r1 >= len(tree) or r2 >= len(tree): \n",
    "        return False\n",
    "    \n",
    "    return (tree[r1] == tree[r1])\\\n",
    "        and isMirror(tree, r1*2+2, r2*2+1)\\\n",
    "        and isMirror(tree, r1*2+1, r2*2+2)\n",
    "\n",
    "isSymmetric([1,2,2,3,4,4,3],0)  #true\n",
    "# isSymmetric([1,2,2,None,3,None,3], 0)"
   ]
  },
  {
   "cell_type": "code",
   "execution_count": 1,
   "metadata": {},
   "outputs": [],
   "source": [
    "a = None\n",
    "if a:\n",
    "    print('here')"
   ]
  },
  {
   "cell_type": "code",
   "execution_count": null,
   "metadata": {},
   "outputs": [],
   "source": []
  }
 ],
 "metadata": {
  "kernelspec": {
   "display_name": "Python 3",
   "language": "python",
   "name": "python3"
  },
  "language_info": {
   "codemirror_mode": {
    "name": "ipython",
    "version": 3
   },
   "file_extension": ".py",
   "mimetype": "text/x-python",
   "name": "python",
   "nbconvert_exporter": "python",
   "pygments_lexer": "ipython3",
   "version": "3.7.3"
  }
 },
 "nbformat": 4,
 "nbformat_minor": 2
}
