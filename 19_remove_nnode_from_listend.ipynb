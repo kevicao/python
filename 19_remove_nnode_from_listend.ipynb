{
 "cells": [
  {
   "cell_type": "code",
   "execution_count": 12,
   "metadata": {},
   "outputs": [
    {
     "name": "stdout",
     "output_type": "stream",
     "text": [
      "1\n",
      "2\n",
      "3\n",
      "4\n",
      "5\n"
     ]
    }
   ],
   "source": [
    "d = dict()\n",
    "d['head'] = [1, 1]\n",
    "d[1] = [2, 2]\n",
    "d[2] = [3, 3]\n",
    "d[3] = [4, 4]\n",
    "d[4] =[5, 'end']\n",
    "\n",
    "#traverse a list\n",
    "def pl(d):\n",
    "    pointer = 'head'\n",
    "    print(d[pointer][0])\n",
    "    while d[pointer][1] != 'end':\n",
    "        pointer = d[pointer][1]\n",
    "        print(d[pointer][0])\n",
    "        \n",
    "    return None\n",
    "        \n",
    "pl(d)"
   ]
  },
  {
   "cell_type": "code",
   "execution_count": 13,
   "metadata": {},
   "outputs": [
    {
     "name": "stdout",
     "output_type": "stream",
     "text": [
      "[[0, None, 'head', 1], [1, 'head', 1, 2], [2, 1, 2, 3], [3, 2, 3, 4], [4, 3, 4, 'end']]\n",
      "1\n",
      "2\n",
      "3\n",
      "5\n"
     ]
    }
   ],
   "source": [
    "#delete the nth node from the end, in one pass\n",
    "#record before and after node pointer for each node \n",
    "def d_nth(d, n):\n",
    "    pointer = 'head'\n",
    "    counter = 0\n",
    "    L = [[0, None, pointer, d[pointer][1]]] \n",
    "    while d[pointer][1] != 'end':\n",
    "        counter += 1\n",
    "        tmp = [counter, pointer, d[pointer][1]]\n",
    "        pointer = d[pointer][1]\n",
    "        tmp.append(d[pointer][1])\n",
    "        L.append(tmp)\n",
    "\n",
    "    #del node, previous node to next node\n",
    "    print(L)\n",
    "    d[L[-n][1]][1] = L[-n][3]\n",
    "    d.pop(L[-n][2], None)\n",
    "    \n",
    "    return d\n",
    "    \n",
    "    \n",
    "    \n",
    "pl(d_nth(d, 2))"
   ]
  },
  {
   "cell_type": "code",
   "execution_count": null,
   "metadata": {},
   "outputs": [],
   "source": [
    "#can also soved by two pointer always separated by n nodes"
   ]
  }
 ],
 "metadata": {
  "kernelspec": {
   "display_name": "Python 3",
   "language": "python",
   "name": "python3"
  },
  "language_info": {
   "codemirror_mode": {
    "name": "ipython",
    "version": 3
   },
   "file_extension": ".py",
   "mimetype": "text/x-python",
   "name": "python",
   "nbconvert_exporter": "python",
   "pygments_lexer": "ipython3",
   "version": "3.6.5"
  }
 },
 "nbformat": 4,
 "nbformat_minor": 2
}
