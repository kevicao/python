{
 "cells": [
  {
   "cell_type": "code",
   "execution_count": 6,
   "metadata": {},
   "outputs": [
    {
     "name": "stdout",
     "output_type": "stream",
     "text": [
      "12\n"
     ]
    }
   ],
   "source": [
    "#dp[i] = max(num[i] + dp[i - 2], dp[i - 1])\n",
    "\n",
    "def rob(L):\n",
    "    dp = [0]*len(L)\n",
    "    dp[0] = L[0]\n",
    "    dp[1] = max(L[0], L[1])\n",
    "    \n",
    "    for i in range(2, len(L)):\n",
    "        dp[i]  = max(dp[i-1], dp[i-2] + L[i])\n",
    "        \n",
    "    return dp[-1]\n",
    "\n",
    "print(rob([2,7,9,3,1]))"
   ]
  },
  {
   "cell_type": "code",
   "execution_count": null,
   "metadata": {},
   "outputs": [],
   "source": []
  }
 ],
 "metadata": {
  "kernelspec": {
   "display_name": "Python 3",
   "language": "python",
   "name": "python3"
  },
  "language_info": {
   "codemirror_mode": {
    "name": "ipython",
    "version": 3
   },
   "file_extension": ".py",
   "mimetype": "text/x-python",
   "name": "python",
   "nbconvert_exporter": "python",
   "pygments_lexer": "ipython3",
   "version": "3.7.3"
  }
 },
 "nbformat": 4,
 "nbformat_minor": 2
}
