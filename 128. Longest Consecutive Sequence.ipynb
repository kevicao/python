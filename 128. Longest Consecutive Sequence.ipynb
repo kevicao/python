{
 "cells": [
  {
   "cell_type": "code",
   "execution_count": null,
   "metadata": {},
   "outputs": [],
   "source": [
    "\n",
    "def longestConsecutive(nums):\n",
    "    longest_streak = 0\n",
    "    num_set = set(nums)\n",
    "\n",
    "    for num in num_set:\n",
    "        if num - 1 not in num_set:\n",
    "            current_num = num\n",
    "            current_streak = 1\n",
    "\n",
    "            while current_num + 1 in num_set:\n",
    "                current_num += 1\n",
    "                current_streak += 1\n",
    "\n",
    "            longest_streak = max(longest_streak, current_streak)\n",
    "\n",
    "    return longest_streak"
   ]
  }
 ],
 "metadata": {
  "kernelspec": {
   "display_name": "Python 3",
   "language": "python",
   "name": "python3"
  },
  "language_info": {
   "codemirror_mode": {
    "name": "ipython",
    "version": 3
   },
   "file_extension": ".py",
   "mimetype": "text/x-python",
   "name": "python",
   "nbconvert_exporter": "python",
   "pygments_lexer": "ipython3",
   "version": "3.7.3"
  }
 },
 "nbformat": 4,
 "nbformat_minor": 2
}
