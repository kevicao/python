{
 "cells": [
  {
   "cell_type": "code",
   "execution_count": 20,
   "metadata": {},
   "outputs": [
    {
     "name": "stdout",
     "output_type": "stream",
     "text": [
      "[1, 3, 2]\n",
      "[1, 2, 3]\n",
      "[1, 5, 1]\n"
     ]
    }
   ],
   "source": [
    "def next_p(L):\n",
    "    import copy\n",
    "    i = len(L)-1\n",
    "    while i > 0 and L[i] < L[i-1]:\n",
    "        i -= 1\n",
    "    if i == 0: \n",
    "        #reverse\n",
    "        tmp = copy.deepcopy(L)\n",
    "        for k in range(len(L)):\n",
    "            L[k] = tmp[len(L)-k-1]\n",
    "        \n",
    "    else:\n",
    "        j = i\n",
    "        while L[i-1] < L[j] and j < len(L) -1:\n",
    "            j += 1\n",
    "\n",
    "        tmp = L[i-1]\n",
    "        L[i-1] = L[j]\n",
    "        L[j] = tmp\n",
    "        \n",
    "        #now reverse\n",
    "        tmp = copy.deepcopy(L)\n",
    "        count = 0\n",
    "        for k in range(i, len(L)-1):\n",
    "            L[k] = tmp[len(L)-1-count]\n",
    "            count += 1\n",
    "        \n",
    "    print(L)\n",
    "        \n",
    "\n",
    "next_p([1,2,3]) \n",
    "next_p([3,2,1])\n",
    "next_p([1,1,5])"
   ]
  },
  {
   "cell_type": "code",
   "execution_count": null,
   "metadata": {},
   "outputs": [],
   "source": []
  }
 ],
 "metadata": {
  "kernelspec": {
   "display_name": "Python 3",
   "language": "python",
   "name": "python3"
  },
  "language_info": {
   "codemirror_mode": {
    "name": "ipython",
    "version": 3
   },
   "file_extension": ".py",
   "mimetype": "text/x-python",
   "name": "python",
   "nbconvert_exporter": "python",
   "pygments_lexer": "ipython3",
   "version": "3.7.3"
  }
 },
 "nbformat": 4,
 "nbformat_minor": 2
}
