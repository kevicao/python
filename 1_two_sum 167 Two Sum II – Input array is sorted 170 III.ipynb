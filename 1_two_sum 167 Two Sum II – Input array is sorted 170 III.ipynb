{
 "cells": [
  {
   "cell_type": "markdown",
   "metadata": {},
   "source": [
    "Given an array of integers, return indices of the two numbers such that they add up to a specific target.\n",
    "\n",
    "You may assume that each input would have exactly one solution, and you may not use the same element twice.\n",
    "\n",
    "Example:\n",
    "\n",
    "Given nums = [2, 7, 11, 15], target = 9,\n",
    "\n",
    "Because nums[0] + nums[1] = 2 + 7 = 9,\n",
    "return [0, 1]."
   ]
  },
  {
   "cell_type": "code",
   "execution_count": 15,
   "metadata": {},
   "outputs": [],
   "source": [
    "List = [2, 7, 11, 15]\n",
    "target = 26\n",
    "# use sum - value1 as key\n",
    "def two_sum(List, target):\n",
    "    d = dict()\n",
    "    for index in range(0, len(List)):\n",
    "        if List[index] in d.keys():\n",
    "            result = [index, d[List[index]]]\n",
    "            result.sort()\n",
    "            print(result)\n",
    "            print(1)\n",
    "        else: \n",
    "            d[target - List[index]] = index\n",
    "            print(2)\n"
   ]
  },
  {
   "cell_type": "raw",
   "metadata": {},
   "source": [
    "two_sum([2, 7, 11, 15], 26)"
   ]
  },
  {
   "cell_type": "markdown",
   "metadata": {},
   "source": [
    "### II\n",
    "\n",
    "167. Two Sum II - Input array is sorted\n",
    "\n",
    "two pointers from both ends"
   ]
  },
  {
   "cell_type": "markdown",
   "metadata": {},
   "source": [
    "### III\n",
    "\n",
    "170 Two Sum III - Data structure design\n",
    "\n",
    "Design and implement a TwoSum class. It should support the following operations:add and find.\n",
    "\n",
    "add - Add the number to an internal data structure.\n",
    "find - Find if there exists any pair of numbers which sum is equal to the value.\n",
    "\n",
    "For example,\n",
    "add(1); add(3); add(5);\n",
    "find(4) -> true\n",
    "find(7) -> false"
   ]
  },
  {
   "cell_type": "code",
   "execution_count": 1,
   "metadata": {},
   "outputs": [],
   "source": [
    "# same as I, there could be duplicate elements. use dict to store freqency"
   ]
  },
  {
   "cell_type": "code",
   "execution_count": null,
   "metadata": {},
   "outputs": [],
   "source": []
  }
 ],
 "metadata": {
  "kernelspec": {
   "display_name": "Python 3",
   "language": "python",
   "name": "python3"
  },
  "language_info": {
   "codemirror_mode": {
    "name": "ipython",
    "version": 3
   },
   "file_extension": ".py",
   "mimetype": "text/x-python",
   "name": "python",
   "nbconvert_exporter": "python",
   "pygments_lexer": "ipython3",
   "version": "3.7.3"
  }
 },
 "nbformat": 4,
 "nbformat_minor": 2
}
