{
 "cells": [
  {
   "cell_type": "markdown",
   "metadata": {},
   "source": [
    "# dynamic programing \n",
    "table[i+1][j-1] == 1 && s.charAt(i) == s.charAt(j)\n",
    "=>\n",
    "table[i][j] == 1\n",
    "\n",
    "time n^2 space n^2"
   ]
  },
  {
   "cell_type": "code",
   "execution_count": 3,
   "metadata": {},
   "outputs": [
    {
     "name": "stdout",
     "output_type": "stream",
     "text": [
      "[[1. 0. 0. 0.]\n",
      " [0. 1. 1. 0.]\n",
      " [0. 0. 1. 0.]\n",
      " [0. 0. 0. 1.]]\n"
     ]
    },
    {
     "data": {
      "text/plain": [
       "2"
      ]
     },
     "execution_count": 3,
     "metadata": {},
     "output_type": "execute_result"
    }
   ],
   "source": [
    "def lps(s):\n",
    "    n = len(s)\n",
    "    import numpy as np\n",
    "    \n",
    "    matrix = np.zeros((n, n))\n",
    "    for i in range(n):\n",
    "        matrix[i][i] = 1\n",
    "    for i in range(n-2,-1,-1):\n",
    "        for j in range(i+1,n):\n",
    "            if j == i+1:\n",
    "                if s[i] == s[j]:\n",
    "                    matrix[i][j] = 1\n",
    "            else:\n",
    "                if matrix[i+1][j-1] == 1 and s[i] == s[j]:\n",
    "                    matrix[i][j] = 1\n",
    "                else:\n",
    "                    matrix[i][j] = 0\n",
    "                    \n",
    "    max_L = 1\n",
    "    for i in range(n):\n",
    "        for j in range(i,n):\n",
    "            if matrix[i][j] == 1:\n",
    "                if j-i+1 > max_L:\n",
    "                    max_L = j-i+1\n",
    "    print(matrix)                \n",
    "    return max_L\n",
    "\n",
    "lps('cbbd')"
   ]
  },
  {
   "cell_type": "code",
   "execution_count": null,
   "metadata": {},
   "outputs": [],
   "source": [
    "1 1 1 1 1 \n",
    "1 1 1 1 1\n",
    "1 1 1 1 1\n",
    "1 1 1 1 1\n",
    "1 1 1 1 1"
   ]
  },
  {
   "cell_type": "code",
   "execution_count": 24,
   "metadata": {},
   "outputs": [
    {
     "data": {
      "text/plain": [
       "4"
      ]
     },
     "execution_count": 24,
     "metadata": {},
     "output_type": "execute_result"
    }
   ],
   "source": [
    "# Expand Around Center; time is n^2 and space 1\n",
    "# need check two cases: i is the center; center is between i and i+1\n",
    "def lps(s):\n",
    "    n = len(s)\n",
    "    maxL = 1\n",
    "    for i in range(n-1):\n",
    "        len1 = expand(s,i,i)\n",
    "        len2 = expand(s,i,i+1)\n",
    "        if len1 > maxL:\n",
    "            maxL = len1\n",
    "        \n",
    "        if len2 > maxL:\n",
    "            maxL = len2\n",
    "            \n",
    "    return maxL\n",
    "\n",
    "def expand(s,l,r):\n",
    "    while l >= 0 and r <= (len(s) - 1) and s[l] == s[r]:\n",
    "        l -= 1\n",
    "        r += 1\n",
    "        \n",
    "    return r - l - 1\n",
    "\n",
    "lps('abbaf')\n",
    "        "
   ]
  },
  {
   "cell_type": "code",
   "execution_count": null,
   "metadata": {},
   "outputs": [],
   "source": []
  }
 ],
 "metadata": {
  "kernelspec": {
   "display_name": "Python 3",
   "language": "python",
   "name": "python3"
  },
  "language_info": {
   "codemirror_mode": {
    "name": "ipython",
    "version": 3
   },
   "file_extension": ".py",
   "mimetype": "text/x-python",
   "name": "python",
   "nbconvert_exporter": "python",
   "pygments_lexer": "ipython3",
   "version": "3.6.5"
  }
 },
 "nbformat": 4,
 "nbformat_minor": 2
}
