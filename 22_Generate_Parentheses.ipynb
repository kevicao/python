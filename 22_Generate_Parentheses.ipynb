{
 "cells": [
  {
   "cell_type": "code",
   "execution_count": 3,
   "metadata": {},
   "outputs": [
    {
     "name": "stdout",
     "output_type": "stream",
     "text": [
      "['((()))', '(()())', '(())()', '()(())', '()()()']\n"
     ]
    }
   ],
   "source": [
    "# generate all possible valid parenthesis for n pair ()\n",
    "n = 3\n",
    "def generate(A = []):\n",
    "    if len(A) == 2*n:\n",
    "        if valid(A):\n",
    "            ans.append(\"\".join(A))\n",
    "    else:\n",
    "        A.append('(')\n",
    "        generate(A)\n",
    "        A.pop()\n",
    "        A.append(')')\n",
    "        generate(A)\n",
    "        A.pop()\n",
    "\n",
    "def valid(A):\n",
    "    bal = 0\n",
    "    for c in A:\n",
    "        if c == '(': bal += 1\n",
    "        else: bal -= 1\n",
    "        if bal < 0: return False\n",
    "    return bal == 0\n",
    "\n",
    "ans = []\n",
    "generate()\n",
    "print(ans)\n",
    "        "
   ]
  },
  {
   "cell_type": "code",
   "execution_count": null,
   "metadata": {},
   "outputs": [],
   "source": []
  }
 ],
 "metadata": {
  "kernelspec": {
   "display_name": "Python 3",
   "language": "python",
   "name": "python3"
  },
  "language_info": {
   "codemirror_mode": {
    "name": "ipython",
    "version": 3
   },
   "file_extension": ".py",
   "mimetype": "text/x-python",
   "name": "python",
   "nbconvert_exporter": "python",
   "pygments_lexer": "ipython3",
   "version": "3.7.3"
  }
 },
 "nbformat": 4,
 "nbformat_minor": 2
}
