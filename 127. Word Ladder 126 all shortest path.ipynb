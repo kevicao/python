{
 "cells": [
  {
   "cell_type": "code",
   "execution_count": 7,
   "metadata": {},
   "outputs": [
    {
     "name": "stdout",
     "output_type": "stream",
     "text": [
      "defaultdict(<class 'list'>, {'*ot': ['hot', 'dot', 'lot'], 'h*t': ['hot'], 'ho*': ['hot'], 'd*t': ['dot'], 'do*': ['dot', 'dog'], '*og': ['dog', 'log', 'cog'], 'd*g': ['dog'], 'l*t': ['lot'], 'lo*': ['lot', 'log'], 'l*g': ['log'], 'c*g': ['cog'], 'co*': ['cog']})\n",
      "[('hit', 1)]\n",
      "[] hit\n",
      "*it\n",
      "h*t\n",
      "hi*\n",
      "[('hot', 2)]\n",
      "[] hot\n",
      "*ot\n",
      "h*t\n",
      "ho*\n",
      "[('dot', 3), ('lot', 3)]\n",
      "[('lot', 3)] dot\n",
      "*ot\n",
      "d*t\n",
      "do*\n",
      "[('lot', 3), ('dog', 4)]\n",
      "[('dog', 4)] lot\n",
      "*ot\n",
      "l*t\n",
      "lo*\n",
      "[('dog', 4), ('log', 4)]\n",
      "[('log', 4)] dog\n",
      "*og\n"
     ]
    },
    {
     "data": {
      "text/plain": [
       "5"
      ]
     },
     "execution_count": 7,
     "metadata": {},
     "output_type": "execute_result"
    }
   ],
   "source": [
    "from collections import defaultdict\n",
    "\n",
    "def ladderLength(beginWord, endWord, wordList):\n",
    "    \"\"\"\n",
    "    :type beginWord: str\n",
    "    :type endWord: str\n",
    "    :type wordList: List[str]\n",
    "    :rtype: int\n",
    "    \"\"\"\n",
    "\n",
    "    if endWord not in wordList or not endWord or not beginWord or not wordList:\n",
    "        return 0\n",
    "\n",
    "    # Since all words are of same length.\n",
    "    L = len(beginWord)\n",
    "\n",
    "    # Dictionary to hold combination of words that can be formed,\n",
    "    # from any given word. By changing one letter at a time.\n",
    "    all_combo_dict = defaultdict(list)\n",
    "    for word in wordList:\n",
    "        for i in range(L):\n",
    "            # Key is the generic word\n",
    "            # Value is a list of words which have the same intermediate generic word.\n",
    "            all_combo_dict[word[:i] + \"*\" + word[i+1:]].append(word)\n",
    "\n",
    "    print(all_combo_dict)\n",
    "    # Queue for BFS\n",
    "    queue = [(beginWord, 1)]\n",
    "    # Visited to make sure we don't repeat processing same word.\n",
    "    visited = {beginWord: True}\n",
    "    while queue:\n",
    "        print(queue)\n",
    "        current_word, level = queue.pop(0)  #pop the first element, but insert at the end later\n",
    "        print(queue, current_word)\n",
    "        for i in range(L):\n",
    "            # Intermediate words for current word\n",
    "            intermediate_word = current_word[:i] + \"*\" + current_word[i+1:]\n",
    "            print(intermediate_word)\n",
    "\n",
    "            # Next states are all the words which share the same intermediate state.\n",
    "            for word in all_combo_dict[intermediate_word]:\n",
    "                # If at any point if we find what we are looking for\n",
    "                # i.e. the end word - we can return with the answer.\n",
    "                if word == endWord:\n",
    "                    return level + 1\n",
    "                # Otherwise, add it to the BFS Queue. Also mark it visited\n",
    "                if word not in visited:\n",
    "                    visited[word] = True\n",
    "                    queue.append((word, level + 1))\n",
    "            all_combo_dict[intermediate_word] = []\n",
    "    return 0\n",
    "\n",
    "ladderLength('hit', 'cog', [\"hot\",\"dot\",\"dog\",\"lot\",\"log\",\"cog\"])"
   ]
  },
  {
   "cell_type": "code",
   "execution_count": 6,
   "metadata": {},
   "outputs": [
    {
     "data": {
      "text/plain": [
       "('dog', 4)"
      ]
     },
     "execution_count": 6,
     "metadata": {},
     "output_type": "execute_result"
    }
   ],
   "source": [
    "#find all shortest path\n",
    "# https://www.cnblogs.com/grandyang/p/4548184.html\n",
    "#https://fizzbuzzed.com/top-interview-questions-4/\n",
    "\n",
    "findLadders(beginWord, endWord, wordList):\n",
    "    res = []\n",
    "    unordered_set<string> dict(wordList.begin(), wordList.end());\n",
    "    vector<string> p{beginWord};\n",
    "    queue<vector<string>> paths;\n",
    "    paths.push(p)\n",
    "    \n",
    "    int level = 1, minLevel = INT_MAX;\n",
    "    unordered_set = set(words)\n",
    "    while !paths.empty():\n",
    "        t = paths.pop(0);\n",
    "        if (t.size() > level) {\n",
    "            for (string w : words) dict.erase(w);\n",
    "            words.clear();\n",
    "            level = t.size();\n",
    "            if (level > minLevel) break;\n",
    "        }\n",
    "        string last = t.back();\n",
    "        for (int i = 0; i < last.size(); ++i) {\n",
    "            string newLast = last;\n",
    "            for (char ch = 'a'; ch <= 'z'; ++ch) {\n",
    "                newLast[i] = ch;\n",
    "                if (!dict.count(newLast)) continue;\n",
    "                words.insert(newLast);\n",
    "                vector<string> nextPath = t;\n",
    "                nextPath.push_back(newLast);\n",
    "                if (newLast == endWord) {\n",
    "                    res.push_back(nextPath);\n",
    "                    minLevel = level;\n",
    "                } else paths.push(nextPath);\n",
    "            }\n",
    "        }\n",
    "    }\n",
    "    return res;\n",
    "}\n",
    "}"
   ]
  },
  {
   "cell_type": "code",
   "execution_count": null,
   "metadata": {},
   "outputs": [],
   "source": []
  }
 ],
 "metadata": {
  "kernelspec": {
   "display_name": "Python 3",
   "language": "python",
   "name": "python3"
  },
  "language_info": {
   "codemirror_mode": {
    "name": "ipython",
    "version": 3
   },
   "file_extension": ".py",
   "mimetype": "text/x-python",
   "name": "python",
   "nbconvert_exporter": "python",
   "pygments_lexer": "ipython3",
   "version": "3.7.3"
  }
 },
 "nbformat": 4,
 "nbformat_minor": 2
}
