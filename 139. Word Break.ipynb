{
 "cells": [
  {
   "cell_type": "code",
   "execution_count": 13,
   "metadata": {},
   "outputs": [
    {
     "name": "stdout",
     "output_type": "stream",
     "text": [
      "[1, 0, 0, 0, 1, 0, 0, 0, 1]\n",
      "[1, 0, 0, 0, 0, 1, 0, 0, 1, 0, 0, 0, 0, 1]\n",
      "[1, 0, 0, 1, 1, 0, 0, 1, 0, 0]\n",
      "[1, 0, 0, 1, 1, 0, 0, 1]\n"
     ]
    },
    {
     "data": {
      "text/plain": [
       "1"
      ]
     },
     "execution_count": 13,
     "metadata": {},
     "output_type": "execute_result"
    }
   ],
   "source": [
    "# https://www.cnblogs.com/grandyang/p/4257740.html\n",
    "\n",
    "def wb(s, wordDict):\n",
    "    mem = [0]*(len(s)+1)\n",
    "    \n",
    "    mem[0] = 1\n",
    "        \n",
    "    for i in range(1, len(s)+1):\n",
    "        for j in range(i):\n",
    "#             print(i,j)\n",
    "            if mem[j] == 1 and s[j:i] in wordDict:\n",
    "                mem[i] = 1\n",
    "                break\n",
    "    \n",
    "    print(mem)\n",
    "    return mem[-1]\n",
    "            \n",
    "wb(\"leetcode\", [\"leet\", \"code\"]) #true\n",
    "wb(\"applepenapple\",[\"apple\", \"pen\"]) #true\n",
    "wb(\"catsandog\", [\"cats\", \"dog\", \"sand\", \"and\", \"cat\"]) #false\n",
    "wb(\"catsand\", [\"cats\", \"dog\", \"sand\", \"and\", \"cat\"])"
   ]
  },
  {
   "cell_type": "code",
   "execution_count": null,
   "metadata": {},
   "outputs": [],
   "source": []
  }
 ],
 "metadata": {
  "kernelspec": {
   "display_name": "Python 3",
   "language": "python",
   "name": "python3"
  },
  "language_info": {
   "codemirror_mode": {
    "name": "ipython",
    "version": 3
   },
   "file_extension": ".py",
   "mimetype": "text/x-python",
   "name": "python",
   "nbconvert_exporter": "python",
   "pygments_lexer": "ipython3",
   "version": "3.7.3"
  }
 },
 "nbformat": 4,
 "nbformat_minor": 2
}
