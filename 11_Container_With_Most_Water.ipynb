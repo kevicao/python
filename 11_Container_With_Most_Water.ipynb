{
 "cells": [
  {
   "cell_type": "code",
   "execution_count": 3,
   "metadata": {},
   "outputs": [],
   "source": [
    "# start from outest, and move lower one\n",
    "def res(L):\n",
    "    n = len(L)\n",
    "    l = 0\n",
    "    r = n-1\n",
    "    \n",
    "    maxA = min(L[l], L[r])*(r-l)\n",
    "    while l < r:\n",
    "        if L[l] < L[r]:\n",
    "            l += 1\n",
    "        else:\n",
    "            r -= 1\n",
    "        A = min(L[l], L[r])*(r-l)\n",
    "        if A > maxA:\n",
    "            maxA = A\n",
    "            \n",
    "    return maxA"
   ]
  },
  {
   "cell_type": "code",
   "execution_count": 4,
   "metadata": {},
   "outputs": [
    {
     "data": {
      "text/plain": [
       "49"
      ]
     },
     "execution_count": 4,
     "metadata": {},
     "output_type": "execute_result"
    }
   ],
   "source": [
    "res([1,8,6,2,5,4,8,3,7]) #49"
   ]
  },
  {
   "cell_type": "code",
   "execution_count": null,
   "metadata": {},
   "outputs": [],
   "source": []
  }
 ],
 "metadata": {
  "kernelspec": {
   "display_name": "Python 3",
   "language": "python",
   "name": "python3"
  },
  "language_info": {
   "codemirror_mode": {
    "name": "ipython",
    "version": 3
   },
   "file_extension": ".py",
   "mimetype": "text/x-python",
   "name": "python",
   "nbconvert_exporter": "python",
   "pygments_lexer": "ipython3",
   "version": "3.6.5"
  }
 },
 "nbformat": 4,
 "nbformat_minor": 2
}
