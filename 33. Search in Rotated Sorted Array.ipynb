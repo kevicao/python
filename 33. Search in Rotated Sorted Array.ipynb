{
 "cells": [
  {
   "cell_type": "code",
   "execution_count": 32,
   "metadata": {},
   "outputs": [
    {
     "name": "stdout",
     "output_type": "stream",
     "text": [
      "4\n",
      "-1\n"
     ]
    }
   ],
   "source": [
    "def sra(L, first, n):\n",
    "#     print(L, first, n)\n",
    "    if len(L) == 1:\n",
    "        if L[0] == n:\n",
    "            return first\n",
    "        else:\n",
    "            return -1\n",
    "        \n",
    "    elif len(L) == 0:\n",
    "        return -1\n",
    "    \n",
    "    elif len(L) == 2:\n",
    "        if L[0] == n:\n",
    "            return first\n",
    "        elif L[1] == n:\n",
    "            return first + 1\n",
    "        else:\n",
    "            return -1\n",
    "       \n",
    "    else:\n",
    "        m = int(len(L)/2)\n",
    "        if L[0] < L[m-1]:\n",
    "            if n >= L[0] and n <= L[m-1]:\n",
    "                return sra(L[:m], first, n)\n",
    "            else: \n",
    "                return sra(L[m:], first + m, n)\n",
    "            \n",
    "        else:\n",
    "            if n >= L[m] and n <= L[-1]:\n",
    "                return sra(L[m:], first+m, n)\n",
    "            else:\n",
    "                return sra(L[:m], first, n)\n",
    "                \n",
    "                \n",
    "print(sra([4,5,6,7,0,1,2], 0, 0))\n",
    "print(sra([4,5,6,7,0,1,2], 0, 3))"
   ]
  },
  {
   "cell_type": "code",
   "execution_count": 26,
   "metadata": {},
   "outputs": [
    {
     "name": "stdout",
     "output_type": "stream",
     "text": [
      "3\n",
      "2\n",
      "1\n"
     ]
    },
    {
     "data": {
      "text/plain": [
       "1"
      ]
     },
     "execution_count": 26,
     "metadata": {},
     "output_type": "execute_result"
    }
   ],
   "source": [
    "def factorial(num):\n",
    "    print(num)\n",
    "    if (num == 0 | num == 1):\n",
    "        return 1\n",
    "    else:\n",
    "        return factorial(num - 1)\n",
    "    \n",
    "factorial(3)"
   ]
  },
  {
   "cell_type": "code",
   "execution_count": null,
   "metadata": {},
   "outputs": [],
   "source": []
  }
 ],
 "metadata": {
  "kernelspec": {
   "display_name": "Python 3",
   "language": "python",
   "name": "python3"
  },
  "language_info": {
   "codemirror_mode": {
    "name": "ipython",
    "version": 3
   },
   "file_extension": ".py",
   "mimetype": "text/x-python",
   "name": "python",
   "nbconvert_exporter": "python",
   "pygments_lexer": "ipython3",
   "version": "3.7.3"
  }
 },
 "nbformat": 4,
 "nbformat_minor": 2
}
