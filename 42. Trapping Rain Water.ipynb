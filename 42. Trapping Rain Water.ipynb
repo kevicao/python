{
 "cells": [
  {
   "cell_type": "code",
   "execution_count": 13,
   "metadata": {},
   "outputs": [
    {
     "data": {
      "text/plain": [
       "6"
      ]
     },
     "execution_count": 13,
     "metadata": {},
     "output_type": "execute_result"
    }
   ],
   "source": [
    "# find the max height up to the given point from left end and right end, \n",
    "# O(n)\n",
    "def tw(L):\n",
    "    if len(L) == 0:\n",
    "        return 0\n",
    "    left_max = [L[0]]\n",
    "    for i in range(1,len(L)):\n",
    "        left_max.append(max(left_max[i-1], L[i]))\n",
    "    \n",
    "    right_max = [0]*len(L)\n",
    "    right_max[-1] = L[-1]\n",
    "    for i in range(len(L)-2,-1, -1):\n",
    "        right_max[i] = max(right_max[i+1], L[i])\n",
    "    \n",
    "    ans = 0\n",
    "    for i, x in enumerate(L):\n",
    "        ans += min(left_max[i], right_max[i]) - L[i]\n",
    "        \n",
    "    return ans\n",
    "\n",
    "tw([0,1,0,2,1,0,1,3,2,1,2,1])"
   ]
  },
  {
   "cell_type": "code",
   "execution_count": null,
   "metadata": {},
   "outputs": [],
   "source": []
  }
 ],
 "metadata": {
  "kernelspec": {
   "display_name": "Python 3",
   "language": "python",
   "name": "python3"
  },
  "language_info": {
   "codemirror_mode": {
    "name": "ipython",
    "version": 3
   },
   "file_extension": ".py",
   "mimetype": "text/x-python",
   "name": "python",
   "nbconvert_exporter": "python",
   "pygments_lexer": "ipython3",
   "version": "3.7.3"
  }
 },
 "nbformat": 4,
 "nbformat_minor": 2
}
