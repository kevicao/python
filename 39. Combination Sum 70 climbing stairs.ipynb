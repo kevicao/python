{
 "cells": [
  {
   "cell_type": "code",
   "execution_count": 10,
   "metadata": {},
   "outputs": [
    {
     "data": {
      "text/plain": [
       "[[2, 2, 3], [7]]"
      ]
     },
     "execution_count": 10,
     "metadata": {},
     "output_type": "execute_result"
    }
   ],
   "source": [
    "#http://yucoding.blogspot.com/2012/12/leetcode-question-16-combination-sum.html\n",
    "def search(candidates, target, i, res, ress):\n",
    "    if target < 0:\n",
    "        return\n",
    "    else:\n",
    "        if target == 0:\n",
    "            res.append(ress[:]) #It is important to use \"ress[:]\" instead of \"ress\"\n",
    "        else:\n",
    "            while i < len(candidates) and target-candidates[i] >= 0:\n",
    "                ress.append(candidates[i])\n",
    "                search(candidates, target-candidates[i], i, res, ress)\n",
    "                i += 1\n",
    "                ress.pop(-1) #if use \"ress\", this will pop the elemtnes in res also\n",
    "\n",
    "# @param {integer[]} candidates\n",
    "# @param {integer} target\n",
    "# @return {integer[][]}\n",
    "def combinationSum(candidates, target):\n",
    "    res =[]\n",
    "    ress = []\n",
    "    search(sorted(candidates), target, 0, res, ress)\n",
    "    return res\n",
    "\n",
    "\n",
    "combinationSum([2,3,6,7], 7)    "
   ]
  },
  {
   "cell_type": "code",
   "execution_count": 6,
   "metadata": {},
   "outputs": [
    {
     "data": {
      "text/plain": [
       "[2, 2]"
      ]
     },
     "execution_count": 6,
     "metadata": {},
     "output_type": "execute_result"
    }
   ],
   "source": [
    "a = [2,2,3]\n",
    "a.pop(-1)\n",
    "a"
   ]
  },
  {
   "cell_type": "code",
   "execution_count": null,
   "metadata": {},
   "outputs": [],
   "source": []
  }
 ],
 "metadata": {
  "kernelspec": {
   "display_name": "Python 3",
   "language": "python",
   "name": "python3"
  },
  "language_info": {
   "codemirror_mode": {
    "name": "ipython",
    "version": 3
   },
   "file_extension": ".py",
   "mimetype": "text/x-python",
   "name": "python",
   "nbconvert_exporter": "python",
   "pygments_lexer": "ipython3",
   "version": "3.7.3"
  }
 },
 "nbformat": 4,
 "nbformat_minor": 2
}
