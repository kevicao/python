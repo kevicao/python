{
 "cells": [
  {
   "cell_type": "code",
   "execution_count": 2,
   "metadata": {},
   "outputs": [
    {
     "data": {
      "text/plain": [
       "0"
      ]
     },
     "execution_count": 2,
     "metadata": {},
     "output_type": "execute_result"
    }
   ],
   "source": [
    "def bt(L):\n",
    "    min_v = L[0]\n",
    "    max_p = 0\n",
    "    \n",
    "    for i in range(1,len(L)):\n",
    "        if L[i] < min_v:\n",
    "            min_v = L[i]\n",
    "        if L[i] > min_v:\n",
    "            max_p = max(max_p, L[i] - min_v)\n",
    "            \n",
    "    return max_p\n",
    "        \n",
    "bt([7,1,5,3,6,4]) #5\n",
    "bt([7,6,4,3,1]) #0"
   ]
  },
  {
   "cell_type": "code",
   "execution_count": null,
   "metadata": {},
   "outputs": [],
   "source": []
  }
 ],
 "metadata": {
  "kernelspec": {
   "display_name": "Python 3",
   "language": "python",
   "name": "python3"
  },
  "language_info": {
   "codemirror_mode": {
    "name": "ipython",
    "version": 3
   },
   "file_extension": ".py",
   "mimetype": "text/x-python",
   "name": "python",
   "nbconvert_exporter": "python",
   "pygments_lexer": "ipython3",
   "version": "3.7.3"
  }
 },
 "nbformat": 4,
 "nbformat_minor": 2
}
