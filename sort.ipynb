{
 "cells": [
  {
   "cell_type": "markdown",
   "metadata": {},
   "source": [
    "#https://www.cs.cmu.edu/~adamchik/15-121/lectures/Sorting%20Algorithms/sorting.html\n",
    "\n",
    "# O(n)\n",
    "1. bucket sort: find biggerst value and make an array of that size. turn on index of element value\n",
    "\n",
    "# O(n^2)\n",
    "2. bubble sort: compare each adjecent number an swap if possible \n",
    "\n",
    "3. selection sort: The algorithm works by selecting the smallest unsorted item and then swapping it with the item in the next position to be filled\n",
    "\n",
    "4. Insertion Sort: To sort unordered list of elements, we remove its entries one at a time and then insert each of them into a sorted part (initially empty):\n",
    "\n",
    "# O(n log n)\n",
    "\n",
    "5. mergesort\n",
    "6. heapsort\n",
    "\n",
    "\n",
    "\n",
    "7. quicksort: pick one (last or middle) and move smaller left and larger to right, repeat on both sides (divide and conquer (O(nlogn) or O(n^2)\n"
   ]
  },
  {
   "cell_type": "code",
   "execution_count": null,
   "metadata": {
    "collapsed": true
   },
   "outputs": [],
   "source": []
  }
 ],
 "metadata": {
  "kernelspec": {
   "display_name": "Python 3",
   "language": "python",
   "name": "python3"
  },
  "language_info": {
   "codemirror_mode": {
    "name": "ipython",
    "version": 3
   },
   "file_extension": ".py",
   "mimetype": "text/x-python",
   "name": "python",
   "nbconvert_exporter": "python",
   "pygments_lexer": "ipython3",
   "version": "3.6.3"
  }
 },
 "nbformat": 4,
 "nbformat_minor": 2
}
