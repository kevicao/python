{
 "cells": [
  {
   "cell_type": "code",
   "execution_count": 4,
   "metadata": {},
   "outputs": [
    {
     "data": {
      "text/plain": [
       "[1, 1, 2, 3, 4, 4, 10]"
      ]
     },
     "execution_count": 4,
     "metadata": {},
     "output_type": "execute_result"
    }
   ],
   "source": [
    "# Input: 1->2->4, 1->3->4\n",
    "# Output: 1->1->2->3->4->4\n",
    "\n",
    "L1 = [1,2,4]\n",
    "L2 = [1,3,4, 10]\n",
    "\n",
    "def merge(L1, L2):\n",
    "    if len(L1) > len(L2):\n",
    "        short = len(L2)\n",
    "    else:\n",
    "        short = len(L1)\n",
    "    \n",
    "    res = []\n",
    "    l1 = 0\n",
    "    l2 = 0\n",
    "    while l1 < len(L1) and l2 < len(L2):\n",
    "        if L1[l1] > L2[l2]:\n",
    "            res.append(L2[l2])\n",
    "            l2 += 1\n",
    "        else:\n",
    "            res.append(L1[l1])\n",
    "            l1 += 1\n",
    "            \n",
    "    while l1 < len(L1):\n",
    "        res.append(L1[l1])\n",
    "        l1 += 1\n",
    "    while l2 < len(L2):\n",
    "        res.append(L2[l2])\n",
    "        l2 += 1\n",
    "        \n",
    "    return res\n",
    "\n",
    "merge(L1, L2)\n",
    "        "
   ]
  },
  {
   "cell_type": "markdown",
   "metadata": {},
   "source": [
    "#merge k lsit\n",
    "\n",
    "#https://leetcode.com/problems/merge-k-sorted-lists/solution/\n",
    "\n",
    "1. sort the total list nlogn\n",
    "2. find smallest value among k each time, nlogk, wihtout priority queue kn   \n",
    "  #h = [], heappush/pop(h, (key, value))\n",
    "  \n",
    "3. convert to merge 2 list, that is to merge one by one, kn\n",
    "4. \n",
    "\n",
    "\n"
   ]
  },
  {
   "cell_type": "code",
   "execution_count": null,
   "metadata": {},
   "outputs": [],
   "source": []
  }
 ],
 "metadata": {
  "kernelspec": {
   "display_name": "Python 3",
   "language": "python",
   "name": "python3"
  },
  "language_info": {
   "codemirror_mode": {
    "name": "ipython",
    "version": 3
   },
   "file_extension": ".py",
   "mimetype": "text/x-python",
   "name": "python",
   "nbconvert_exporter": "python",
   "pygments_lexer": "ipython3",
   "version": "3.7.3"
  }
 },
 "nbformat": 4,
 "nbformat_minor": 2
}
