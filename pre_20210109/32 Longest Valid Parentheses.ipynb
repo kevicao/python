{
 "cells": [
  {
   "cell_type": "code",
   "execution_count": 18,
   "metadata": {},
   "outputs": [
    {
     "name": "stdout",
     "output_type": "stream",
     "text": [
      "1\n",
      "4\n"
     ]
    }
   ],
   "source": [
    "def lvp(L):\n",
    "    bal = 0\n",
    "    \n",
    "    max_l = 0\n",
    "    counter = 0\n",
    "    last_val = -1\n",
    "    for index, c in enumerate(L):\n",
    "        if c == '(':\n",
    "            bal += 1\n",
    "        else:\n",
    "            bal -= 1\n",
    "            \n",
    "        if bal > 0: \n",
    "            counter += 1\n",
    "        if bal == 0:\n",
    "            counter += 1\n",
    "            if counter > max_l:\n",
    "                max_l = counter\n",
    "            last_val = index\n",
    "            \n",
    "        if bal < 0: \n",
    "            counter = 0\n",
    "            bal = 0\n",
    "            last_val = index\n",
    "            \n",
    "#         print(c, index, bal, counter, max_l)\n",
    "#     print(bal)       \n",
    "    if bal > 0: \n",
    "        tmp = len(L)-1 - last_val - bal\n",
    "        if tmp > max_l:\n",
    "            max_l = tmp\n",
    "            \n",
    "    print(max_l)\n",
    "        \n",
    "# lvp(')()())')       \n",
    "# lvp('(()')  \n",
    "# lvp('()((())')\n",
    "lvp('())((())')"
   ]
  },
  {
   "cell_type": "code",
   "execution_count": 9,
   "metadata": {},
   "outputs": [
    {
     "data": {
      "text/plain": [
       "<enumerate at 0x7f117c34e480>"
      ]
     },
     "execution_count": 9,
     "metadata": {},
     "output_type": "execute_result"
    }
   ],
   "source": []
  },
  {
   "cell_type": "code",
   "execution_count": null,
   "metadata": {},
   "outputs": [],
   "source": []
  }
 ],
 "metadata": {
  "kernelspec": {
   "display_name": "Python 3",
   "language": "python",
   "name": "python3"
  },
  "language_info": {
   "codemirror_mode": {
    "name": "ipython",
    "version": 3
   },
   "file_extension": ".py",
   "mimetype": "text/x-python",
   "name": "python",
   "nbconvert_exporter": "python",
   "pygments_lexer": "ipython3",
   "version": "3.7.3"
  }
 },
 "nbformat": 4,
 "nbformat_minor": 2
}
