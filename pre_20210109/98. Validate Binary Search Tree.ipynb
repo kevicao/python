{
 "cells": [
  {
   "cell_type": "code",
   "execution_count": 14,
   "metadata": {},
   "outputs": [
    {
     "data": {
      "text/plain": [
       "False"
      ]
     },
     "execution_count": 14,
     "metadata": {},
     "output_type": "execute_result"
    }
   ],
   "source": [
    "# L = [5,1,4,null,null,3,6] false\n",
    "#https://leetcode.com/problems/validate-binary-search-tree/solution/\n",
    "#recursively check left and right\n",
    "def vbst(L, root = 0, lower = float('-inf'), upper = float('inf')):\n",
    "    if L[root] < lower or L[root] > upper:\n",
    "        return False\n",
    "\n",
    "    if root*2+1 < len(L) and L[root*2+1] != None:\n",
    "        if not vbst(L, root*2+1, lower, L[root]):\n",
    "            return False \n",
    "\n",
    "    if root*2+2 < len(L) and L[root*2+2] != None:\n",
    "        if not vbst(L, root*2+2, L[root], upper):\n",
    "            return False\n",
    "\n",
    "    return True\n",
    "   \n",
    "L = [5,1,4,None,None,3,6]  #False\n",
    "print(vbst(L))\n",
    "L = [2,1,3] #true\n",
    "print(vbst(L))\n",
    "L = [2,3,3] #Fasle\n",
    "print(vbst(L))\n",
    "L = [5,1,6,None,None,4,7] #False\n",
    "print(vbst(L))"
   ]
  },
  {
   "cell_type": "code",
   "execution_count": 25,
   "metadata": {},
   "outputs": [
    {
     "data": {
      "text/plain": [
       "False"
      ]
     },
     "execution_count": 25,
     "metadata": {},
     "output_type": "execute_result"
    }
   ],
   "source": [
    "1 != 1"
   ]
  },
  {
   "cell_type": "code",
   "execution_count": null,
   "metadata": {},
   "outputs": [],
   "source": []
  }
 ],
 "metadata": {
  "kernelspec": {
   "display_name": "Python 3",
   "language": "python",
   "name": "python3"
  },
  "language_info": {
   "codemirror_mode": {
    "name": "ipython",
    "version": 3
   },
   "file_extension": ".py",
   "mimetype": "text/x-python",
   "name": "python",
   "nbconvert_exporter": "python",
   "pygments_lexer": "ipython3",
   "version": "3.7.3"
  }
 },
 "nbformat": 4,
 "nbformat_minor": 2
}
