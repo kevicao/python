{
 "cells": [
  {
   "cell_type": "markdown",
   "metadata": {},
   "source": [
    "Given an input string (s) and a pattern (p), implement regular expression matching with support for '.' and '*'.\n",
    "\n",
    "'.' Matches any single character.\n",
    "'*' Matches zero or more of the preceding element.\n",
    "The matching should cover the entire input string (not partial).\n",
    "\n",
    "Note:\n",
    "\n",
    "s could be empty and contains only lowercase letters a-z.\n",
    "p could be empty and contains only lowercase letters a-z, and characters like . or *."
   ]
  },
  {
   "cell_type": "code",
   "execution_count": null,
   "metadata": {},
   "outputs": [],
   "source": [
    "def regex(s,p):\n",
    "    "
   ]
  },
  {
   "cell_type": "code",
   "execution_count": 8,
   "metadata": {},
   "outputs": [],
   "source": [
    "#If a star is present in the pattern, it will be in the second position \n",
    "#\\text{pattern[1]}pattern[1]. Then, we may ignore this part of the pattern, or \n",
    "#delete a matching character in the text. If we have a match on the remaining strings \n",
    "#after any of these operations, then the initial inputs matched.\n",
    "def regex(text, pattern):\n",
    "    if not pattern:\n",
    "        return not text\n",
    "\n",
    "    first_match = bool(text) and pattern[0] in {text[0], '.'}\n",
    "\n",
    "    if len(pattern) >= 2 and pattern[1] == '*':\n",
    "        return (regex(text, pattern[2:]) or\n",
    "                first_match and regex(text[1:], pattern))\n",
    "    else:\n",
    "        return first_match and regex(text[1:], pattern[1:])\n",
    "    \n"
   ]
  },
  {
   "cell_type": "code",
   "execution_count": 9,
   "metadata": {},
   "outputs": [
    {
     "name": "stdout",
     "output_type": "stream",
     "text": [
      "False\n",
      "True\n",
      "True\n",
      "True\n",
      "False\n"
     ]
    }
   ],
   "source": [
    "#test \n",
    "print(regex('aa', 'a')) #false\n",
    "print(regex('aa', 'a*')) #true\n",
    "print(regex('ab', '.*')) #true\n",
    "print(regex('aab', 'c*a*b')) #true\n",
    "print(regex('mississippi', 'mis*is*p*.')) #false"
   ]
  },
  {
   "cell_type": "code",
   "execution_count": null,
   "metadata": {},
   "outputs": [],
   "source": []
  }
 ],
 "metadata": {
  "kernelspec": {
   "display_name": "Python 3",
   "language": "python",
   "name": "python3"
  },
  "language_info": {
   "codemirror_mode": {
    "name": "ipython",
    "version": 3
   },
   "file_extension": ".py",
   "mimetype": "text/x-python",
   "name": "python",
   "nbconvert_exporter": "python",
   "pygments_lexer": "ipython3",
   "version": "3.6.5"
  }
 },
 "nbformat": 4,
 "nbformat_minor": 2
}
