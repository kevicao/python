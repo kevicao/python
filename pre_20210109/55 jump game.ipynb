{
 "cells": [
  {
   "cell_type": "code",
   "execution_count": 12,
   "metadata": {},
   "outputs": [
    {
     "data": {
      "text/plain": [
       "False"
      ]
     },
     "execution_count": 12,
     "metadata": {},
     "output_type": "execute_result"
    }
   ],
   "source": [
    "def canJumpFromPosition(position, nums):\n",
    "    if position == len(nums) - 1:\n",
    "        return True;\n",
    "\n",
    "    furthestJump = min(position + nums[position], len(nums) - 1)\n",
    "    for nextPosition in range(position+1, furthestJump+1):\n",
    "        if canJumpFromPosition(nextPosition, nums):\n",
    "            return True;\n",
    "\n",
    "    return False;\n",
    "\n",
    "canJumpFromPosition(0, [2,3,1,1,4])\n",
    "canJumpFromPosition(0, [3,2,1,0,4])"
   ]
  },
  {
   "cell_type": "code",
   "execution_count": 15,
   "metadata": {},
   "outputs": [
    {
     "data": {
      "text/plain": [
       "False"
      ]
     },
     "execution_count": 15,
     "metadata": {},
     "output_type": "execute_result"
    }
   ],
   "source": [
    "def jg_dp(nums):\n",
    "    mem = [False]*len(nums)\n",
    "    mem[-1] = 1\n",
    "    for i in range(len(nums)-2, -1, -1):\n",
    "        fur = min(nums[i] + i, len(nums)-1)\n",
    "        for j in range(i+1, fur+1):\n",
    "            if mem[j] == True:\n",
    "                mem[i] = True\n",
    "                break\n",
    "    return mem[0]\n",
    "\n",
    "jg_dp([3,2,1,0,4])"
   ]
  },
  {
   "cell_type": "code",
   "execution_count": null,
   "metadata": {},
   "outputs": [],
   "source": []
  }
 ],
 "metadata": {
  "kernelspec": {
   "display_name": "Python 3",
   "language": "python",
   "name": "python3"
  },
  "language_info": {
   "codemirror_mode": {
    "name": "ipython",
    "version": 3
   },
   "file_extension": ".py",
   "mimetype": "text/x-python",
   "name": "python",
   "nbconvert_exporter": "python",
   "pygments_lexer": "ipython3",
   "version": "3.7.3"
  }
 },
 "nbformat": 4,
 "nbformat_minor": 2
}
