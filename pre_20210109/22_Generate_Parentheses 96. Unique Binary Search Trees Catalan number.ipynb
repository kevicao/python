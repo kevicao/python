{
 "cells": [
  {
   "cell_type": "code",
   "execution_count": null,
   "metadata": {},
   "outputs": [],
   "source": [
    "Catalan Number\n",
    "https://www.geeksforgeeks.org/program-nth-catalan-number/"
   ]
  },
  {
   "cell_type": "code",
   "execution_count": 3,
   "metadata": {},
   "outputs": [
    {
     "name": "stdout",
     "output_type": "stream",
     "text": [
      "4862\n"
     ]
    }
   ],
   "source": [
    "#22 generate all possible valid parenthesis for n pair ()\n",
    "n = 9\n",
    "def generate(A = []):\n",
    "    if len(A) == 2*n:\n",
    "        if valid(A):\n",
    "            ans.append(\"\".join(A))\n",
    "    else:\n",
    "        A.append('(')\n",
    "        generate(A)\n",
    "        A.pop()\n",
    "        A.append(')')\n",
    "        generate(A)\n",
    "        A.pop()\n",
    "\n",
    "def valid(A):\n",
    "    bal = 0\n",
    "    for c in A:\n",
    "        if c == '(': bal += 1\n",
    "        else: bal -= 1\n",
    "        if bal < 0: return False\n",
    "    return bal == 0\n",
    "\n",
    "ans = []\n",
    "generate()\n",
    "print(len(ans))\n",
    "        "
   ]
  },
  {
   "cell_type": "code",
   "execution_count": 12,
   "metadata": {},
   "outputs": [
    {
     "name": "stdout",
     "output_type": "stream",
     "text": [
      "Preorder traversals of all constructed BSTs are\n",
      "4862\n"
     ]
    }
   ],
   "source": [
    "# 96. Unique Binary Search Trees\n",
    "# https://www.geeksforgeeks.org/construct-all-possible-bsts-for-keys-1-to-n/\n",
    "\n",
    "# Python3 prgroam to contrcut all unique \n",
    "# BSTs for keys from 1 to n \n",
    "\n",
    "# Binary Tree Node \n",
    "\"\"\" A utility function to create a \n",
    "new BST node \"\"\"\n",
    "class newNode: \n",
    "\n",
    "\t# Construct to create a newNode \n",
    "\tdef __init__(self, item): \n",
    "\t\tself.key=item \n",
    "\t\tself.left = None\n",
    "\t\tself.right = None\n",
    "\n",
    "# A utility function to do preorder \n",
    "# traversal of BST \n",
    "def preorder(root) : \n",
    "\n",
    "\tif (root != None) : \n",
    "\t\n",
    "\t\tprint(root.key, end = \" \" ) \n",
    "\t\tpreorder(root.left) \n",
    "\t\tpreorder(root.right) \n",
    "\t\n",
    "# function for constructing trees \n",
    "def constructTrees(start, end): \n",
    "\n",
    "\tlist = [] \n",
    "\n",
    "\t\"\"\" if start > end then subtree will be \n",
    "\t\tempty so returning None in the list \"\"\"\n",
    "\tif (start > end) : \n",
    "\t\n",
    "\t\tlist.append(None) \n",
    "\t\treturn list\n",
    "\t\n",
    "\t\"\"\" iterating through all values from \n",
    "\t\tstart to end for constructing \n",
    "\t\tleft and right subtree recursively \"\"\"\n",
    "\tfor i in range(start, end + 1): \n",
    "\t\n",
    "\t\t\"\"\" constructing left subtree \"\"\"\n",
    "\t\tleftSubtree = constructTrees(start, i - 1) \n",
    "\n",
    "\t\t\"\"\" constructing right subtree \"\"\"\n",
    "\t\trightSubtree = constructTrees(i + 1, end) \n",
    "\n",
    "\t\t\"\"\" now looping through all left and \n",
    "\t\t\tright subtrees and connecting \n",
    "\t\t\tthem to ith root below \"\"\"\n",
    "\t\tfor j in range(len(leftSubtree)) : \n",
    "\t\t\tleft = leftSubtree[j] \n",
    "\t\t\tfor k in range(len(rightSubtree)): \n",
    "\t\t\t\tright = rightSubtree[k] \n",
    "\t\t\t\tnode = newNode(i) # making value i as root \n",
    "\t\t\t\tnode.left = left # connect left subtree \n",
    "\t\t\t\tnode.right = right # connect right subtree \n",
    "\t\t\t\tlist.append(node) # add this tree to list \n",
    "\treturn list\n",
    "\n",
    "# Driver Code \n",
    "if __name__ == '__main__': \n",
    "\n",
    "\t# Construct all possible BSTs \n",
    "\ttotalTreesFrom1toN = constructTrees(1, 9) \n",
    "\n",
    "\t\"\"\" Printing preorder traversal of \n",
    "\t\tall constructed BSTs \"\"\"\n",
    "\tprint(\"Preorder traversals of all\", \n",
    "\t\t\t\t\"constructed BSTs are\") \n",
    "# \tfor i in range(len(totalTreesFrom1toN)): \n",
    "# \t\tpreorder(totalTreesFrom1toN[i]) \n",
    "\tprint(len(totalTreesFrom1toN)) \n"
   ]
  },
  {
   "cell_type": "code",
   "execution_count": null,
   "metadata": {},
   "outputs": [],
   "source": []
  }
 ],
 "metadata": {
  "kernelspec": {
   "display_name": "Python 3",
   "language": "python",
   "name": "python3"
  },
  "language_info": {
   "codemirror_mode": {
    "name": "ipython",
    "version": 3
   },
   "file_extension": ".py",
   "mimetype": "text/x-python",
   "name": "python",
   "nbconvert_exporter": "python",
   "pygments_lexer": "ipython3",
   "version": "3.7.3"
  }
 },
 "nbformat": 4,
 "nbformat_minor": 2
}
