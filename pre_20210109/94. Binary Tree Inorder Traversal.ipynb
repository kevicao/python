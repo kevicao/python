{
 "cells": [
  {
   "cell_type": "code",
   "execution_count": null,
   "metadata": {},
   "outputs": [],
   "source": [
    "array representation: p, 2p+1 for left, 2p+2 for right"
   ]
  },
  {
   "cell_type": "code",
   "execution_count": 13,
   "metadata": {},
   "outputs": [
    {
     "data": {
      "text/plain": [
       "[1, 3, 2]"
      ]
     },
     "execution_count": 13,
     "metadata": {},
     "output_type": "execute_result"
    }
   ],
   "source": [
    "tree = dict()\n",
    "tree['root'] = dict()\n",
    "tree['root']['key'] = 1\n",
    "tree['root']['left'] = None\n",
    "tree['root']['right'] = 'ela'\n",
    "\n",
    "tree['ela'] = dict()\n",
    "tree['ela']['key'] = 2\n",
    "tree['ela']['left'] = 'wle'\n",
    "tree['ela']['right'] = None\n",
    "\n",
    "tree['wle'] = dict()\n",
    "tree['wle']['key'] = 3\n",
    "tree['wle']['left'] = None\n",
    "tree['wle']['right'] = None\n",
    "\n",
    "def inorder_traversal(tree, root):\n",
    "    if root is None:\n",
    "        return []\n",
    "    elif tree[root]['left'] is None and tree[root]['right'] is None:\n",
    "        return [tree[root]['key']]    \n",
    "    else:\n",
    "        return inorder_traversal(tree, tree[root]['left']) + [tree[root]['key']] + \\\n",
    "                    inorder_traversal(tree, tree[root]['right'])\n",
    "\n",
    "inorder_traversal(tree, 'root')"
   ]
  },
  {
   "cell_type": "code",
   "execution_count": 21,
   "metadata": {},
   "outputs": [
    {
     "data": {
      "text/plain": [
       "[1, 3, 2]"
      ]
     },
     "execution_count": 21,
     "metadata": {},
     "output_type": "execute_result"
    }
   ],
   "source": [
    "def node(value, left, right):\n",
    "    tmp = dict()\n",
    "    tmp['value'] = value\n",
    "    tmp['left'] = left\n",
    "    tmp['right'] = right\n",
    "    \n",
    "    return tmp\n",
    "\n",
    "C = node(3, None, None)\n",
    "B = node(2, C, None)\n",
    "A = node(1, None, B)\n",
    "\n",
    "\n",
    "def inorder_traversal(tree):\n",
    "    if tree is None:\n",
    "        return []\n",
    "    elif tree['left'] is None and tree['right'] is None:\n",
    "        return [tree['value']]    \n",
    "    else:\n",
    "        return inorder_traversal(tree['left']) + [tree['value']] + \\\n",
    "                    inorder_traversal(tree['right'])\n",
    "\n",
    "inorder_traversal(A)"
   ]
  },
  {
   "cell_type": "code",
   "execution_count": 24,
   "metadata": {},
   "outputs": [
    {
     "data": {
      "text/plain": [
       "[1, 3, 2]"
      ]
     },
     "execution_count": 24,
     "metadata": {},
     "output_type": "execute_result"
    }
   ],
   "source": [
    "L = [1, None, 2, None, None, 3]\n",
    "\n",
    "def inorder_recur(L, root):\n",
    "    if root >= len(L) or L[root] == None:\n",
    "        return []\n",
    "    elif root*2+1 < len(L) and L[root*2+1] is None\\\n",
    "            and root*2+2 < len(L) and L[root*2+2] is None:\n",
    "        return [L[root]]\n",
    "    else:\n",
    "        return inorder_recur(L, root*2+1) + [L[root]] + inorder_recur(L, root*2+2)\n",
    "    \n",
    "inorder_recur(L, 0)"
   ]
  },
  {
   "cell_type": "code",
   "execution_count": 47,
   "metadata": {},
   "outputs": [
    {
     "name": "stdout",
     "output_type": "stream",
     "text": [
      "[]\n",
      "here []\n",
      "there [0]\n",
      "here [0]\n",
      "there [0, 1]\n",
      "here [0, 1]\n",
      "there [0, 1, 3]\n",
      "[0, 1]\n",
      "[0]\n",
      "here [0]\n",
      "there [0, 4]\n",
      "[0]\n",
      "[]\n",
      "here []\n",
      "there [2]\n"
     ]
    },
    {
     "data": {
      "text/plain": [
       "[4, 2, 5, 1, 3]"
      ]
     },
     "execution_count": 47,
     "metadata": {},
     "output_type": "execute_result"
    }
   ],
   "source": [
    "# https://www.cnblogs.com/bymo/p/9591063.html\n",
    "def inorder_iter(L):\n",
    "    stack = []\n",
    "    res = []\n",
    "    \n",
    "    root = 0\n",
    "    while (root < len(L) and L[root]) or stack:\n",
    "        print(stack)\n",
    "        while root < len(L) and L[root]:\n",
    "            print('here', stack)\n",
    "            stack.append(root)\n",
    "            print('there', stack)\n",
    "            root = root*2 + 1\n",
    "        \n",
    "        tmp = stack.pop()\n",
    "        res.append(L[tmp])\n",
    "        root = tmp*2 + 2\n",
    "        \n",
    "    return res\n",
    "\n",
    "L = [1, None, 2, None, None, 3]\n",
    "# inorder_iter(L) #1,3,2\n",
    "L = [1, 2, 3, 4, 5]\n",
    "inorder_iter(L)  #4,2,5,1,3"
   ]
  },
  {
   "cell_type": "code",
   "execution_count": 35,
   "metadata": {},
   "outputs": [
    {
     "data": {
      "text/plain": [
       "3"
      ]
     },
     "execution_count": 35,
     "metadata": {},
     "output_type": "execute_result"
    }
   ],
   "source": [
    "a = [1,2,3]\n",
    "b = []\n",
    "c = a.pop()\n",
    "c"
   ]
  },
  {
   "cell_type": "code",
   "execution_count": null,
   "metadata": {},
   "outputs": [],
   "source": []
  }
 ],
 "metadata": {
  "kernelspec": {
   "display_name": "Python 3",
   "language": "python",
   "name": "python3"
  },
  "language_info": {
   "codemirror_mode": {
    "name": "ipython",
    "version": 3
   },
   "file_extension": ".py",
   "mimetype": "text/x-python",
   "name": "python",
   "nbconvert_exporter": "python",
   "pygments_lexer": "ipython3",
   "version": "3.7.3"
  }
 },
 "nbformat": 4,
 "nbformat_minor": 2
}
