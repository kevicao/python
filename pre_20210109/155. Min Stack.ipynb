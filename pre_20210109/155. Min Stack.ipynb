{
 "cells": [
  {
   "cell_type": "code",
   "execution_count": 5,
   "metadata": {},
   "outputs": [
    {
     "name": "stdout",
     "output_type": "stream",
     "text": [
      "-3\n",
      "0\n",
      "-2\n"
     ]
    }
   ],
   "source": [
    "#用另一个stack<int> trackMin来记录min值的变化，trackMin.top()表示当前最小值。\n",
    "# 当有新的xi<=trackMin.top()被压入时，将xi压入trackMin变为新的当前最小值。\n",
    "# 当xi==trackMin.top()时被pop出时，trackMin也同时pop。\n",
    "\n",
    "class MinStack:\n",
    "\n",
    "    def __init__(self):\n",
    "        \"\"\"\n",
    "        initialize your data structure here.\n",
    "        \"\"\"\n",
    "        self.L = []\n",
    "        self.trackMin = []\n",
    "        \n",
    "    def push(self, x):\n",
    "        if len(self.trackMin) == 0 or (len(self.trackMin) > 0 and x <= self.trackMin[-1]):\n",
    "            self.trackMin.append(x)\n",
    "            \n",
    "        self.L.append(x)\n",
    "        \n",
    "        return None\n",
    "\n",
    "    def pop(self):\n",
    "        if len(self.L) == 0:\n",
    "            return None\n",
    "        \n",
    "        if self.L[-1] == self.trackMin[-1]:\n",
    "            self.trackMin.pop(-1)\n",
    "            \n",
    "        self.L.pop(-1)\n",
    "        return None\n",
    "        \n",
    "\n",
    "    def top(self):\n",
    "        if len(self.L) == 0:\n",
    "            print('empty')\n",
    "        else:\n",
    "            return self.L[-1]\n",
    "        \n",
    "\n",
    "    def getMin(self):\n",
    "        if len(self.L) == 0:\n",
    "            print('empty')\n",
    "        else:\n",
    "            return self.trackMin[-1]\n",
    "\n",
    "# MinStack minStack = new MinStack();\n",
    "# minStack.push(-2);\n",
    "# minStack.push(0);\n",
    "# minStack.push(-3);\n",
    "# minStack.getMin();   --> Returns -3.\n",
    "# minStack.pop();\n",
    "# minStack.top();      --> Returns 0.\n",
    "# minStack.getMin();   --> Returns -2.\n",
    "# Your MinStack object will be instantiated and called as such:\n",
    "obj = MinStack()\n",
    "obj.push(-2)\n",
    "obj.push(0)\n",
    "obj.push(-3)\n",
    "print(obj.getMin())\n",
    "obj.pop()\n",
    "print(obj.top())\n",
    "print(obj.getMin())"
   ]
  },
  {
   "cell_type": "code",
   "execution_count": null,
   "metadata": {},
   "outputs": [],
   "source": []
  }
 ],
 "metadata": {
  "kernelspec": {
   "display_name": "Python 3",
   "language": "python",
   "name": "python3"
  },
  "language_info": {
   "codemirror_mode": {
    "name": "ipython",
    "version": 3
   },
   "file_extension": ".py",
   "mimetype": "text/x-python",
   "name": "python",
   "nbconvert_exporter": "python",
   "pygments_lexer": "ipython3",
   "version": "3.7.3"
  }
 },
 "nbformat": 4,
 "nbformat_minor": 2
}
