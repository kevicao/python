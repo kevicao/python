{
 "cells": [
  {
   "cell_type": "markdown",
   "metadata": {},
   "source": [
    "Find the median of the two sorted arrays. The overall run time complexity should be O(log (m+n)).\n",
    "\n",
    "You may assume nums1 and nums2 cannot be both empty."
   ]
  },
  {
   "cell_type": "code",
   "execution_count": 19,
   "metadata": {},
   "outputs": [
    {
     "name": "stdout",
     "output_type": "stream",
     "text": [
      "2.0\n"
     ]
    }
   ],
   "source": [
    "L1 = [1,2]\n",
    "L2 = [3] #2.5\n",
    "\n",
    "#https://leetcode.com/problems/median-of-two-sorted-arrays/discuss/2471/Very-concise-O(log(min(MN)))-iterative-solution-with-detailed-explanation\n",
    "\n",
    "def median_two_array(L1, L2):\n",
    "    n1 = len(L1)\n",
    "    n2 = len(L2)\n",
    "    if n1 < n2: return median_two_array(L2, L1)\n",
    "    \n",
    "    \n",
    "    l = 0\n",
    "    h = n2*2\n",
    "    \n",
    "    while l <= h:\n",
    "        med2 = (l+h)//2\n",
    "        med1 = n1 + n2 - med2\n",
    "        \n",
    "        l1 = float('-inf') if med1 == 0 else L1[(med1-1)//2]\n",
    "        l2 = float('-inf') if med2 == 0 else L2[(med2-1)//2]\n",
    "        r1 = float('inf') if med1 == n1*2 else L1[(med1)//2]\n",
    "        r2 = float('inf') if med2 == n2*2 else L2[(med2)//2]\n",
    "        \n",
    "        if (l1 > r2):\n",
    "            l = med2 + 1\n",
    "        elif l2 > r1:\n",
    "            h = med2 - 1\n",
    "        else:\n",
    "            return (max(l1,l2) + min(r1, r2)) / 2\n",
    "            \n",
    "    return -1\n",
    "        \n",
    "print(median_two_array(L1, L2) )       \n",
    "    "
   ]
  },
  {
   "cell_type": "markdown",
   "metadata": {},
   "source": [
    "    l1  r1\n",
    "l   l2  r2    h  \n",
    "should: l1 < r2 and l2 < r1\n",
    "if l1 > r2: increase r2  --> position\n",
    "if l2 > r1: decrease l2 ---> decrease position"
   ]
  },
  {
   "cell_type": "code",
   "execution_count": 1,
   "metadata": {},
   "outputs": [
    {
     "data": {
      "text/plain": [
       "1"
      ]
     },
     "execution_count": 1,
     "metadata": {},
     "output_type": "execute_result"
    }
   ],
   "source": [
    "3//2"
   ]
  },
  {
   "cell_type": "code",
   "execution_count": null,
   "metadata": {},
   "outputs": [],
   "source": []
  }
 ],
 "metadata": {
  "kernelspec": {
   "display_name": "Python 3",
   "language": "python",
   "name": "python3"
  },
  "language_info": {
   "codemirror_mode": {
    "name": "ipython",
    "version": 3
   },
   "file_extension": ".py",
   "mimetype": "text/x-python",
   "name": "python",
   "nbconvert_exporter": "python",
   "pygments_lexer": "ipython3",
   "version": "3.7.3"
  }
 },
 "nbformat": 4,
 "nbformat_minor": 2
}
