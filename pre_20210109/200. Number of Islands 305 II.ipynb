{
 "cells": [
  {
   "cell_type": "code",
   "execution_count": 23,
   "metadata": {},
   "outputs": [
    {
     "name": "stdout",
     "output_type": "stream",
     "text": [
      "[[0. 0. 0. 0. 0. 0. 0.]\n",
      " [0. 2. 2. 2. 2. 0. 0.]\n",
      " [0. 2. 2. 0. 2. 0. 0.]\n",
      " [0. 2. 2. 0. 0. 0. 0.]\n",
      " [0. 0. 0. 0. 0. 0. 0.]\n",
      " [0. 0. 0. 0. 0. 0. 0.]]\n",
      "1\n",
      "[[0. 0. 0. 0. 0. 0. 0.]\n",
      " [0. 2. 2. 0. 0. 0. 0.]\n",
      " [0. 2. 2. 0. 0. 0. 0.]\n",
      " [0. 0. 0. 3. 0. 0. 0.]\n",
      " [0. 0. 0. 0. 4. 4. 0.]\n",
      " [0. 0. 0. 0. 0. 0. 0.]]\n",
      "3\n"
     ]
    }
   ],
   "source": [
    "import numpy as np\n",
    "\n",
    "def isl(data):\n",
    "    isl_list = []\n",
    "    counter = 2\n",
    "    matrix = np.zeros((data.shape[0]+2, data.shape[1]+2))\n",
    "    matrix[1:matrix.shape[0]-1,1:matrix.shape[1]-1] = data\n",
    "\n",
    "    for i in range(1,matrix.shape[0]-1):\n",
    "        for j in range(1,matrix.shape[1]-1):\n",
    "            if matrix[i][j] == 1:\n",
    "                if matrix[i-1][j] > 1:\n",
    "                    matrix[i][j] = matrix[i-1][j]\n",
    "                elif matrix[i+1][j] > 1:\n",
    "                    matrix[i][j] = matrix[i+1][j]\n",
    "                elif matrix[i][j-1] > 1:\n",
    "                    matrix[i][j] = matrix[i][j-1]\n",
    "                elif matrix[i][j+1] > 1:\n",
    "                    matrix[i][j] = matrix[i][j+1]\n",
    "                else:\n",
    "                    matrix[i][j] = counter\n",
    "                    counter += 1\n",
    "    print(matrix)           \n",
    "    return counter-2\n",
    "\n",
    "matrix = np.array([[1,1,1,1,0],\n",
    "[1,1,0,1,0],\n",
    "[1,1,0,0,0],\n",
    "[0,0,0,0,0]])\n",
    "print(isl(matrix)) #1\n",
    "matrix = np.array([[1,1,0,0,0],\n",
    "[1,1,0,0,0],\n",
    "[0,0,1,0,0],\n",
    "[0,0,0,1,1]])\n",
    "print(isl(matrix))\n",
    "                    \n",
    "            "
   ]
  },
  {
   "cell_type": "code",
   "execution_count": null,
   "metadata": {},
   "outputs": [],
   "source": [
    "#https://www.cnblogs.com/grandyang/p/4402656.html\n",
    "#explain BFS and DFS"
   ]
  },
  {
   "cell_type": "code",
   "execution_count": null,
   "metadata": {},
   "outputs": [],
   "source": [
    "II"
   ]
  }
 ],
 "metadata": {
  "kernelspec": {
   "display_name": "Python 3",
   "language": "python",
   "name": "python3"
  },
  "language_info": {
   "codemirror_mode": {
    "name": "ipython",
    "version": 3
   },
   "file_extension": ".py",
   "mimetype": "text/x-python",
   "name": "python",
   "nbconvert_exporter": "python",
   "pygments_lexer": "ipython3",
   "version": "3.7.3"
  }
 },
 "nbformat": 4,
 "nbformat_minor": 2
}
