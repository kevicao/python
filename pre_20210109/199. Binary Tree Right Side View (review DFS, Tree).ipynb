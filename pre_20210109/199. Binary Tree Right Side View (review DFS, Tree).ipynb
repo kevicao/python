{
 "cells": [
  {
   "cell_type": "code",
   "execution_count": null,
   "metadata": {},
   "outputs": [],
   "source": [
    "# we can store the value of the first node that we visit at each depth in DFS where we visit right first always\n",
    "def rightSideView(root):\n",
    "    rightmost_value_at_depth = dict() # depth -> node.val\n",
    "    max_depth = -1\n",
    "\n",
    "    stack = [(root, 0)]\n",
    "    while stack:\n",
    "        node, depth = stack.pop()\n",
    "\n",
    "        if node is not None:\n",
    "            # maintain knowledge of the number of levels in the tree.\n",
    "            max_depth = max(max_depth, depth)\n",
    "\n",
    "            # only insert into dict if depth is not already present.\n",
    "            rightmost_value_at_depth.setdefault(depth, node.val)  #same with get, but will set default value if no key\n",
    "\n",
    "            stack.append((node.left, depth+1))\n",
    "            stack.append((node.right, depth+1))\n",
    "\n",
    "    return [rightmost_value_at_depth[depth] for depth in range(max_depth+1)]\n",
    "\n"
   ]
  }
 ],
 "metadata": {
  "kernelspec": {
   "display_name": "Python 3",
   "language": "python",
   "name": "python3"
  },
  "language_info": {
   "codemirror_mode": {
    "name": "ipython",
    "version": 3
   },
   "file_extension": ".py",
   "mimetype": "text/x-python",
   "name": "python",
   "nbconvert_exporter": "python",
   "pygments_lexer": "ipython3",
   "version": "3.7.3"
  }
 },
 "nbformat": 4,
 "nbformat_minor": 2
}
