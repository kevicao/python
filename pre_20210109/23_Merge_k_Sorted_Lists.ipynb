{
 "cells": [
  {
   "cell_type": "code",
   "execution_count": 14,
   "metadata": {},
   "outputs": [
    {
     "name": "stdout",
     "output_type": "stream",
     "text": [
      "[1, 1, 2, 3, 4, 4, 5, 6]\n"
     ]
    }
   ],
   "source": [
    "def merge_k(L):\n",
    "    \n",
    "    if len(L) == 0:\n",
    "        return []\n",
    "    \n",
    "    tracking = [0]*len(L)\n",
    "    \n",
    "    final = []\n",
    "    while len(L) > 0:\n",
    "        smallest = find_s([L[j][tracking[j]] for j in range(len(L))])\n",
    "        final.append(L[smallest][tracking[smallest]])\n",
    "        \n",
    "        if tracking[smallest] + 1 < len(L[smallest]):\n",
    "            tracking[smallest] += 1\n",
    "        else:\n",
    "            L.pop(smallest)\n",
    "            tracking.pop(smallest)\n",
    "            \n",
    "    print(final)\n",
    "        \n",
    "        \n",
    "    \n",
    "def find_s(List):\n",
    "    smallest = 0\n",
    "    for i in range(1,len(List)):\n",
    "        if List[i] < List[smallest]:\n",
    "            smallest = i\n",
    "    return smallest\n",
    "        \n",
    "merge_k([[1,4,5], [1,3,4], [2,6]])        "
   ]
  },
  {
   "cell_type": "code",
   "execution_count": null,
   "metadata": {},
   "outputs": [],
   "source": []
  }
 ],
 "metadata": {
  "kernelspec": {
   "display_name": "Python 3",
   "language": "python",
   "name": "python3"
  },
  "language_info": {
   "codemirror_mode": {
    "name": "ipython",
    "version": 3
   },
   "file_extension": ".py",
   "mimetype": "text/x-python",
   "name": "python",
   "nbconvert_exporter": "python",
   "pygments_lexer": "ipython3",
   "version": "3.7.3"
  }
 },
 "nbformat": 4,
 "nbformat_minor": 2
}
