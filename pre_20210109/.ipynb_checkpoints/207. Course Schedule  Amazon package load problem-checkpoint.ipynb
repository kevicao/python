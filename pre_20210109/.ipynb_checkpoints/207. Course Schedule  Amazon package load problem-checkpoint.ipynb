{
 "cells": [
  {
   "cell_type": "markdown",
   "metadata": {},
   "source": [
    "# 207. Course Schedule"
   ]
  },
  {
   "cell_type": "code",
   "execution_count": null,
   "metadata": {},
   "outputs": [],
   "source": [
    "# number of course: 2, course 0 should be finished before 1: [[1,0]]"
   ]
  },
  {
   "cell_type": "code",
   "execution_count": 2,
   "metadata": {},
   "outputs": [
    {
     "name": "stdout",
     "output_type": "stream",
     "text": [
      "[3, 7, 8, 5, 11, 10, 9, 2]\n"
     ]
    }
   ],
   "source": [
    "# topological ordering\n",
    "# https://en.wikipedia.org/wiki/Topological_sorting\n",
    "# amazon interview https://www.careercup.com/question?id=5134681810927616\n",
    "\n",
    "List = [[5,11], [7,11], [7,8], [3,8], [11,2], [11,9], [11,10], [8,9], [3,10] ]\n",
    "\n",
    "def topo_ordering(List):\n",
    "    \n",
    "    incoming = dict()\n",
    "    outgoing = dict()\n",
    "    nodes = []\n",
    "    \n",
    "    sorted_nodes = []\n",
    "    \n",
    "    for e in List:\n",
    "        if e[1] not in incoming.keys():\n",
    "            incoming[e[1]] = [e[0]]\n",
    "        else:\n",
    "            incoming[e[1]].append(e[0])\n",
    "            \n",
    "        if e[0] not in outgoing.keys():\n",
    "            outgoing[e[0]] = [e[1]]\n",
    "        else:\n",
    "            outgoing[e[0]].append(e[1])\n",
    "        \n",
    "        for n in e:\n",
    "            if n not in nodes:\n",
    "                nodes.append(n)\n",
    "                \n",
    "    s = []\n",
    "    for n in nodes:\n",
    "        if n not in incoming.keys():\n",
    "            s.append(n)\n",
    "            \n",
    "    while len(s) > 0:\n",
    "        n = s.pop(-1)\n",
    "        sorted_nodes.append(n)\n",
    "        \n",
    "        if len(outgoing) > 0:\n",
    "            for m in outgoing[n]:\n",
    "                incoming[m].remove(n)\n",
    "                \n",
    "                if len(incoming[m]) == 0:\n",
    "                    s.append(m)\n",
    "                    incoming.pop(m)\n",
    "            outgoing.pop(n)\n",
    "    \n",
    "    if len(incoming) > 0:\n",
    "        return 'error'\n",
    "    else:\n",
    "        return sorted_nodes\n",
    "        \n",
    "        \n",
    "print(topo_ordering(List))"
   ]
  }
 ],
 "metadata": {
  "kernelspec": {
   "display_name": "Python 3",
   "language": "python",
   "name": "python3"
  },
  "language_info": {
   "codemirror_mode": {
    "name": "ipython",
    "version": 3
   },
   "file_extension": ".py",
   "mimetype": "text/x-python",
   "name": "python",
   "nbconvert_exporter": "python",
   "pygments_lexer": "ipython3",
   "version": "3.8.5"
  }
 },
 "nbformat": 4,
 "nbformat_minor": 2
}
