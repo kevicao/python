{
 "cells": [
  {
   "cell_type": "code",
   "execution_count": 4,
   "metadata": {},
   "outputs": [
    {
     "name": "stdout",
     "output_type": "stream",
     "text": [
      "True\n",
      "False\n",
      "True\n",
      "True\n"
     ]
    }
   ],
   "source": [
    "def val_p(s):\n",
    "    L = []\n",
    "    openp = ['(', '[', '{']\n",
    "    close = [')', ']', '}']\n",
    "    \n",
    "    d = {'(':')', '[':']', '{':'}'}\n",
    "    \n",
    "    if len(s) == 0:\n",
    "        return True\n",
    "    \n",
    "    for index, x in enumerate(s):\n",
    "        if x in openp:\n",
    "            if index == len(s) - 1:\n",
    "                return False\n",
    "            else:\n",
    "                L.append(x)\n",
    "                \n",
    "        if x in close:\n",
    "            if len(L) == 0:\n",
    "                return False\n",
    "            else:\n",
    "                if x == d[L[-1]]:\n",
    "                    L.pop()\n",
    "                else:\n",
    "                    return False\n",
    "    if len(L) == 0:\n",
    "        return True\n",
    "    else:\n",
    "        return False\n",
    "    \n",
    "print(val_p('()[]{}')) #true\n",
    "print(val_p('([)]')) #false\n",
    "print(val_p('')) #true\n",
    "print(val_p('{[]}')) #true\n",
    "            "
   ]
  },
  {
   "cell_type": "code",
   "execution_count": null,
   "metadata": {},
   "outputs": [],
   "source": []
  }
 ],
 "metadata": {
  "kernelspec": {
   "display_name": "Python 3",
   "language": "python",
   "name": "python3"
  },
  "language_info": {
   "codemirror_mode": {
    "name": "ipython",
    "version": 3
   },
   "file_extension": ".py",
   "mimetype": "text/x-python",
   "name": "python",
   "nbconvert_exporter": "python",
   "pygments_lexer": "ipython3",
   "version": "3.6.5"
  }
 },
 "nbformat": 4,
 "nbformat_minor": 2
}
