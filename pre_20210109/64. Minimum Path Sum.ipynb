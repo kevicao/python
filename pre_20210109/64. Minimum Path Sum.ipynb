{
 "cells": [
  {
   "cell_type": "code",
   "execution_count": 5,
   "metadata": {},
   "outputs": [
    {
     "data": {
      "text/plain": [
       "7"
      ]
     },
     "execution_count": 5,
     "metadata": {},
     "output_type": "execute_result"
    }
   ],
   "source": [
    "def mp(L):\n",
    "    m = len(L)\n",
    "    n = len(L[0])\n",
    "    \n",
    "    dp = [[10000]*n for i in range(m)]\n",
    "    dp[m-1][n-1] = L[m-1][n-1]\n",
    "    for i in range(m-2, -1, -1):\n",
    "        dp[i][n-1] = L[i][n-1] + dp[i+1][n-1]\n",
    "    for j in range(n-2, -1, -1):\n",
    "        dp[m-1][j] = L[m-1][j] + dp[m-1][j+1]       \n",
    "        \n",
    "    for i in range(m-2, -1, -1):\n",
    "        for j in range(n-2, -1, -1):\n",
    "            dp[i][j] = min(dp[i+1][j], dp[i][j+1]) + L[i][j]\n",
    "            \n",
    "    return(dp[0][0])\n",
    "\n",
    "mp([\n",
    "  [1,3,1],\n",
    "  [1,5,1],\n",
    "  [4,2,1]\n",
    "])"
   ]
  },
  {
   "cell_type": "code",
   "execution_count": null,
   "metadata": {},
   "outputs": [],
   "source": []
  }
 ],
 "metadata": {
  "kernelspec": {
   "display_name": "Python 3",
   "language": "python",
   "name": "python3"
  },
  "language_info": {
   "codemirror_mode": {
    "name": "ipython",
    "version": 3
   },
   "file_extension": ".py",
   "mimetype": "text/x-python",
   "name": "python",
   "nbconvert_exporter": "python",
   "pygments_lexer": "ipython3",
   "version": "3.7.3"
  }
 },
 "nbformat": 4,
 "nbformat_minor": 2
}
