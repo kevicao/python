{
 "cells": [
  {
   "cell_type": "code",
   "execution_count": 10,
   "metadata": {},
   "outputs": [
    {
     "name": "stdout",
     "output_type": "stream",
     "text": [
      "20 20 20 <__main__.Node object at 0x7f6cb45c59b0>\n",
      "1 1 20 <__main__.Node object at 0x7f6cb45c5c88>\n",
      "22 23 23 <__main__.Node object at 0x7f6cb45af978>\n",
      "3 3 23 <__main__.Node object at 0x7f6cb45c5ba8>\n",
      "4 4 23 <__main__.Node object at 0x7f6cb45c5b38>\n",
      "-21 -18 23 <__main__.Node object at 0x7f6cb45c5a58>\n",
      "10 10 23 <__main__.Node object at 0x7f6cb45c5b00>\n",
      "32 42 42 <__main__.Node object at 0x7f6cb45c5a20>\n",
      "Max path sum is  42\n"
     ]
    }
   ],
   "source": [
    "#https://www.geeksforgeeks.org/find-maximum-path-sum-in-a-binary-tree/#\n",
    "\n",
    "Python program to find maximum path sum in Binary Tree \n",
    "\n",
    "# A Binary Tree Node \n",
    "class Node: \n",
    "\t\n",
    "\t# Contructor to create a new node \n",
    "\tdef __init__(self, data): \n",
    "\t\tself.data = data \n",
    "\t\tself.left = None\n",
    "\t\tself.right = None\n",
    "\n",
    "# This function returns overall maximum path sum in 'res' \n",
    "# And returns max path sum going through root \n",
    "def findMaxUtil(root): \n",
    "\t\n",
    "\t# Base Case \n",
    "\tif root is None: \n",
    "\t\treturn 0\n",
    "\n",
    "\t# l and r store maximum path sum going through left \n",
    "\t# and right child of root respetively \n",
    "\tl = findMaxUtil(root.left) \n",
    "\tr = findMaxUtil(root.right) \n",
    "\t\n",
    "\t# Max path for parent call of root. This path \n",
    "\t# must include at most one child of root \n",
    "\tmax_single = max(max(l, r) + root.data, root.data) \n",
    "\t\n",
    "\t# Max top represents the sum when the node under \n",
    "\t# consideration is the root of the maxSum path and \n",
    "\t# no ancestor of root are there in max sum path \n",
    "\tmax_top = max(max_single, l+r+ root.data) \n",
    "\n",
    "\t# Static variable to store the changes \n",
    "\t# Store the maximum result  \n",
    "\tfindMaxUtil.res = max(findMaxUtil.res, max_top) \n",
    "\tprint(max_single, max_top, findMaxUtil.res, root)\n",
    "\treturn max_single \n",
    "\n",
    "# Return maximum path sum in tree with given root \n",
    "def findMaxSum(root): \n",
    "\t\n",
    "\t# Initialize result \n",
    "\tfindMaxUtil.res = float(\"-inf\") \n",
    "\t\n",
    "\t# Compute and return result \n",
    "\tfindMaxUtil(root) \n",
    "\treturn findMaxUtil.res \n",
    "\n",
    "# Driver program \n",
    "root = Node(10) \n",
    "root.left = Node(2) \n",
    "root.right = Node(10); \n",
    "root.left.left = Node(20); \n",
    "root.left.right = Node(1); \n",
    "root.right.right = Node(-25); \n",
    "root.right.right.left = Node(3); \n",
    "root.right.right.right = Node(4); \n",
    "print(\"Max path sum is \",findMaxSum(root)) \n",
    "\n"
   ]
  },
  {
   "cell_type": "code",
   "execution_count": null,
   "metadata": {},
   "outputs": [],
   "source": []
  }
 ],
 "metadata": {
  "kernelspec": {
   "display_name": "Python 3",
   "language": "python",
   "name": "python3"
  },
  "language_info": {
   "codemirror_mode": {
    "name": "ipython",
    "version": 3
   },
   "file_extension": ".py",
   "mimetype": "text/x-python",
   "name": "python",
   "nbconvert_exporter": "python",
   "pygments_lexer": "ipython3",
   "version": "3.7.3"
  }
 },
 "nbformat": 4,
 "nbformat_minor": 2
}
