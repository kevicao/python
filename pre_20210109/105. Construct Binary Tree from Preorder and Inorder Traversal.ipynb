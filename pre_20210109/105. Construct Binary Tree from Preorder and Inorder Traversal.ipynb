{
 "cells": [
  {
   "cell_type": "code",
   "execution_count": 3,
   "metadata": {},
   "outputs": [
    {
     "name": "stdout",
     "output_type": "stream",
     "text": [
      "Inorder traversal of the constructed tree is\n",
      "D\n",
      "B\n",
      "E\n",
      "A\n",
      "F\n",
      "C\n"
     ]
    }
   ],
   "source": [
    "# Python program to construct tree using inorder and \n",
    "# preorder traversals \n",
    "\n",
    "# A binary tree node \n",
    "class Node: \n",
    "\t\n",
    "\t# Constructor to create a new node \n",
    "\tdef __init__(self, data): \n",
    "\t\tself.data = data \n",
    "\t\tself.left = None\n",
    "\t\tself.right = None\n",
    "\n",
    "\"\"\"Recursive function to construct binary of size len from \n",
    "Inorder traversal in[] and Preorder traversal pre[]. Initial values \n",
    "of inStrt and inEnd should be 0 and len -1. The function doesn't \n",
    "do any error checking for cases where inorder and preorder \n",
    "do not form a tree \"\"\"\n",
    "def buildTree(inOrder, preOrder, inStrt, inEnd): \n",
    "\t\n",
    "\tif (inStrt > inEnd): \n",
    "\t\treturn None\n",
    "\n",
    "\t# Pich current node from Preorder traversal using \n",
    "\t# preIndex and increment preIndex \n",
    "\ttNode = Node(preOrder[buildTree.preIndex]) \n",
    "\tbuildTree.preIndex += 1\n",
    "\n",
    "\t# If this node has no children then return \n",
    "\tif inStrt == inEnd : \n",
    "\t\treturn tNode \n",
    "\n",
    "\t# Else find the index of this node in Inorder traversal \n",
    "\tinIndex = search(inOrder, inStrt, inEnd, tNode.data) \n",
    "\t\n",
    "\t# Using index in Inorder Traversal, construct left \n",
    "\t# and right subtrees \n",
    "\ttNode.left = buildTree(inOrder, preOrder, inStrt, inIndex-1) \n",
    "\ttNode.right = buildTree(inOrder, preOrder, inIndex + 1, inEnd) \n",
    "\n",
    "\treturn tNode \n",
    "\n",
    "# UTILITY FUNCTIONS \n",
    "# Function to find index of vaue in arr[start...end] \n",
    "# The function assumes that value is rpesent in inOrder[] \n",
    "\n",
    "def search(arr, start, end, value): \n",
    "\tfor i in range(start, end + 1): \n",
    "\t\tif arr[i] == value: \n",
    "\t\t\treturn i \n",
    "\n",
    "def printInorder(node): \n",
    "\tif node is None: \n",
    "\t\treturn\n",
    "\t\n",
    "\t# first recur on left child \n",
    "\tprintInorder(node.left) \n",
    "\t\n",
    "\t# then print the data of node \n",
    "\tprint(node.data) \n",
    "\n",
    "\t# now recur on right child \n",
    "\tprintInorder(node.right) \n",
    "\t\n",
    "# Driver program to test above function \n",
    "inOrder = ['D', 'B', 'E', 'A', 'F', 'C'] \n",
    "preOrder = ['A', 'B', 'D', 'E', 'C', 'F'] \n",
    "# Static variable preIndex \n",
    "buildTree.preIndex = 0\n",
    "root = buildTree(inOrder, preOrder, 0, len(inOrder)-1) \n",
    "\n",
    "# Let us test the build tree by priting Inorder traversal \n",
    "print(\"Inorder traversal of the constructed tree is\")\n",
    "printInorder(root) \n"
   ]
  },
  {
   "cell_type": "code",
   "execution_count": null,
   "metadata": {},
   "outputs": [],
   "source": []
  }
 ],
 "metadata": {
  "kernelspec": {
   "display_name": "Python 3",
   "language": "python",
   "name": "python3"
  },
  "language_info": {
   "codemirror_mode": {
    "name": "ipython",
    "version": 3
   },
   "file_extension": ".py",
   "mimetype": "text/x-python",
   "name": "python",
   "nbconvert_exporter": "python",
   "pygments_lexer": "ipython3",
   "version": "3.7.3"
  }
 },
 "nbformat": 4,
 "nbformat_minor": 2
}
