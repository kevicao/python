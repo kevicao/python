{
 "cells": [
  {
   "cell_type": "markdown",
   "metadata": {},
   "source": [
    "Longest Substring Without Repeating Characters\n",
    "\n",
    "input: \"abcabcbb\"\n",
    "<br>\n",
    "Output: 3 <br>\n",
    "Explanation: The answer is \"abc\", with the length of 3. "
   ]
  },
  {
   "cell_type": "code",
   "execution_count": 4,
   "metadata": {},
   "outputs": [
    {
     "name": "stdout",
     "output_type": "stream",
     "text": [
      "(0, 'abc', 3)\n",
      "(0, 'b', 1)\n",
      "(0, 'ABDEFG', 6)\n"
     ]
    }
   ],
   "source": [
    "def longest_substring(s):\n",
    "    #non-empty\n",
    "    if len(s) == 0:\n",
    "        return (0, '', 0)\n",
    "    elif len(s) == 1:\n",
    "        return (0, s, 1)\n",
    "    else:\n",
    "        pos = 0\n",
    "        max_L = 1\n",
    "\n",
    "        index = 0\n",
    "        cur_L = 0\n",
    "        sub = dict()\n",
    "        while index < len(s) - 1:\n",
    "            for high in range(index, len(s)):\n",
    "                if s[high] in sub:\n",
    "                    if cur_L > max_L:\n",
    "                        pos = index\n",
    "                        max_L = cur_L\n",
    "                    #move index\n",
    "                    for x in range(index, sub[s[high]] + 1):\n",
    "                        sub.pop(s[x])\n",
    "                    index = x + 1 \n",
    "                    sub[s[high]] = high\n",
    "                else:\n",
    "                    sub[s[high]] = high\n",
    "                    cur_L += 1 \n",
    "        return (pos,s[pos:pos+max_L], max_L)\n",
    "            \n",
    "print(longest_substring('abcabcbb'))\n",
    "print(longest_substring('bbbbb'))\n",
    "print(longest_substring('ABDEFGABEF'))"
   ]
  },
  {
   "cell_type": "code",
   "execution_count": null,
   "metadata": {},
   "outputs": [],
   "source": []
  },
  {
   "cell_type": "code",
   "execution_count": null,
   "metadata": {},
   "outputs": [],
   "source": []
  }
 ],
 "metadata": {
  "kernelspec": {
   "display_name": "Python 3",
   "language": "python",
   "name": "python3"
  },
  "language_info": {
   "codemirror_mode": {
    "name": "ipython",
    "version": 3
   },
   "file_extension": ".py",
   "mimetype": "text/x-python",
   "name": "python",
   "nbconvert_exporter": "python",
   "pygments_lexer": "ipython3",
   "version": "3.7.3"
  }
 },
 "nbformat": 4,
 "nbformat_minor": 2
}
