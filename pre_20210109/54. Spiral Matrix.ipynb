{
 "cells": [
  {
   "cell_type": "code",
   "execution_count": null,
   "metadata": {},
   "outputs": [],
   "source": [
    "# https://leetcode.com/problems/spiral-matrix/solution/\n",
    "\n",
    "class Solution(object):\n",
    "    def spiralOrder(self, matrix):\n",
    "        if not matrix: return []\n",
    "        R, C = len(matrix), len(matrix[0])\n",
    "        seen = [[False] * C for _ in matrix]\n",
    "        ans = []\n",
    "        dr = [0, 1, 0, -1]\n",
    "        dc = [1, 0, -1, 0]\n",
    "        r = c = di = 0\n",
    "        for _ in range(R * C):\n",
    "            ans.append(matrix[r][c])\n",
    "            seen[r][c] = True\n",
    "            cr, cc = r + dr[di], c + dc[di]\n",
    "            if 0 <= cr < R and 0 <= cc < C and not seen[cr][cc]:\n",
    "                r, c = cr, cc\n",
    "            else:\n",
    "                di = (di + 1) % 4\n",
    "                r, c = r + dr[di], c + dc[di]\n",
    "        return ans"
   ]
  }
 ],
 "metadata": {
  "kernelspec": {
   "display_name": "Python 3",
   "language": "python",
   "name": "python3"
  },
  "language_info": {
   "codemirror_mode": {
    "name": "ipython",
    "version": 3
   },
   "file_extension": ".py",
   "mimetype": "text/x-python",
   "name": "python",
   "nbconvert_exporter": "python",
   "pygments_lexer": "ipython3",
   "version": "3.7.3"
  }
 },
 "nbformat": 4,
 "nbformat_minor": 2
}
