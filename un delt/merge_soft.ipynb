{
 "cells": [
  {
   "cell_type": "code",
   "execution_count": 6,
   "metadata": {
    "collapsed": false
   },
   "outputs": [
    {
     "name": "stdout",
     "output_type": "stream",
     "text": [
      "('Splitting ', [54, 26, 93, 17, 77, 31, 44, 55, 20])\n",
      "('Splitting ', [54, 26, 93, 17])\n",
      "('Splitting ', [54, 26])\n",
      "('Splitting ', [54])\n",
      "('It is already been sorted ', [54])\n",
      "('merging ', [54])\n",
      "('Splitting ', [26])\n",
      "('It is already been sorted ', [26])\n",
      "('merging ', [26])\n",
      "('merging ', [26, 54])\n",
      "('Splitting ', [93, 17])\n",
      "('Splitting ', [93])\n",
      "('It is already been sorted ', [93])\n",
      "('merging ', [93])\n",
      "('Splitting ', [17])\n",
      "('It is already been sorted ', [17])\n",
      "('merging ', [17])\n",
      "('merging ', [17, 93])\n",
      "('merging ', [17, 26, 54, 93])\n",
      "('Splitting ', [77, 31, 44, 55, 20])\n",
      "('Splitting ', [77, 31])\n",
      "('Splitting ', [77])\n",
      "('It is already been sorted ', [77])\n",
      "('merging ', [77])\n",
      "('Splitting ', [31])\n",
      "('It is already been sorted ', [31])\n",
      "('merging ', [31])\n",
      "('merging ', [31, 77])\n",
      "('Splitting ', [44, 55, 20])\n",
      "('Splitting ', [44])\n",
      "('It is already been sorted ', [44])\n",
      "('merging ', [44])\n",
      "('Splitting ', [55, 20])\n",
      "('Splitting ', [55])\n",
      "('It is already been sorted ', [55])\n",
      "('merging ', [55])\n",
      "('Splitting ', [20])\n",
      "('It is already been sorted ', [20])\n",
      "('merging ', [20])\n",
      "('merging ', [20, 55])\n",
      "('merging ', [20, 44, 55])\n",
      "('merging ', [20, 31, 44, 55, 77])\n",
      "('merging ', [17, 20, 26, 31, 44, 54, 55, 77, 93])\n",
      "[17, 20, 26, 31, 44, 54, 55, 77, 93]\n"
     ]
    }
   ],
   "source": [
    "import math\n",
    "def mergesort(Array):\n",
    "    \n",
    "    if len(Array)> 1:\n",
    "        Middle = int(math.floor(len(Array)/2))\n",
    "        Aleft = Array[:Middle]\n",
    "        Aright = Array[Middle:]\n",
    "        \n",
    "        mergesort(Aleft)\n",
    "        mergesort(Aright)\n",
    "        \n",
    "        i =0\n",
    "        j =0 \n",
    "        k =0\n",
    "        while i<len(Aleft) and j<len(Aright):\n",
    "            if Aleft[i]<Aright[j]:\n",
    "                Array[k] = Aleft[i]\n",
    "                i= i+1\n",
    "            else:\n",
    "                Array[k]=Aright[j]\n",
    "                j = j+1\n",
    "            k=k+1\n",
    "        \n",
    "        while i<len(Aleft):\n",
    "            Array[k] = Aleft[i]\n",
    "            i = i+1\n",
    "            k = k+1\n",
    "        \n",
    "        while j<len(Aright):\n",
    "            Array[k] = Aright[j]\n",
    "            j = j+1\n",
    "            k = k+1\n",
    "    print(\"merging \",Array)\n",
    "  \n",
    "\n",
    "alist = [54,26,93,17,77,31,44,55,20]\n",
    "mergesort(alist)\n",
    "print(alist)\n",
    "\n"
   ]
  },
  {
   "cell_type": "code",
   "execution_count": null,
   "metadata": {
    "collapsed": true
   },
   "outputs": [],
   "source": []
  }
 ],
 "metadata": {
  "kernelspec": {
   "display_name": "Python 2",
   "language": "python",
   "name": "python2"
  },
  "language_info": {
   "codemirror_mode": {
    "name": "ipython",
    "version": 2
   },
   "file_extension": ".py",
   "mimetype": "text/x-python",
   "name": "python",
   "nbconvert_exporter": "python",
   "pygments_lexer": "ipython2",
   "version": "2.7.11"
  }
 },
 "nbformat": 4,
 "nbformat_minor": 0
}
