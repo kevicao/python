{
 "cells": [
  {
   "cell_type": "markdown",
   "metadata": {},
   "source": [
    "# what is the difference of recusion and itteration\n",
    "#递归, recursive, funtion calls itself\n",
    "#迭代, itterative"
   ]
  },
  {
   "cell_type": "code",
   "execution_count": 14,
   "metadata": {},
   "outputs": [
    {
     "name": "stdout",
     "output_type": "stream",
     "text": [
      "55\n"
     ]
    }
   ],
   "source": [
    "def fab_recursion(index):\n",
    "    if index == 1 or index == 2:\n",
    "        return 1\n",
    "    else:\n",
    "        return fab_recursion(index-1) + fab_recursion(index-2)\n",
    "    \n",
    "print(fab_recursion(10))\n",
    "\n"
   ]
  },
  {
   "cell_type": "code",
   "execution_count": 13,
   "metadata": {},
   "outputs": [
    {
     "data": {
      "text/plain": [
       "55"
      ]
     },
     "execution_count": 13,
     "metadata": {},
     "output_type": "execute_result"
    }
   ],
   "source": [
    "def fab_iteration(index):\n",
    "    if index == 1 or index == 2:\n",
    "        return 1\n",
    "    else:\n",
    "        f1 = 1\n",
    "        f2 = 1\n",
    "        for i in range(3, index+1):\n",
    "            f3 = f1 + f2\n",
    "            f1 = f2\n",
    "            f2 = f3\n",
    "            \n",
    "        return f3\n",
    "    \n",
    "fab_iteration(10)"
   ]
  },
  {
   "cell_type": "markdown",
   "metadata": {},
   "source": [
    "# 46. Permutations"
   ]
  },
  {
   "cell_type": "markdown",
   "metadata": {},
   "source": [
    "https://www.cnblogs.com/grandyang/p/4358848.html"
   ]
  },
  {
   "cell_type": "code",
   "execution_count": 1,
   "metadata": {},
   "outputs": [
    {
     "name": "stdout",
     "output_type": "stream",
     "text": [
      "[1]\n",
      "[1, 2]\n",
      "[1, 2, 3]\n",
      "[1, 3]\n",
      "[1, 3, 2]\n",
      "[2]\n",
      "[2, 1]\n",
      "[2, 1, 3]\n",
      "[2, 3]\n",
      "[2, 3, 1]\n",
      "[3]\n",
      "[3, 1]\n",
      "[3, 1, 2]\n",
      "[3, 2]\n",
      "[3, 2, 1]\n"
     ]
    },
    {
     "data": {
      "text/plain": [
       "[[1, 2, 3], [1, 3, 2], [2, 1, 3], [2, 3, 1], [3, 1, 2], [3, 2, 1]]"
      ]
     },
     "execution_count": 1,
     "metadata": {},
     "output_type": "execute_result"
    }
   ],
   "source": [
    "\n",
    "#this is recursion solution\n",
    "def pm_recursion(L):\n",
    "    res = []\n",
    "    out = []\n",
    "    \n",
    "    visited = [0]*len(L)\n",
    "    \n",
    "    permuteDFS(L, 0, visited, out, res)\n",
    "    \n",
    "    return res\n",
    "\n",
    "def permuteDFS(num, level, visited, out, res):\n",
    "    if level == len(num):\n",
    "        res.append(out[:])\n",
    "        \n",
    "        return\n",
    "    \n",
    "    for i in range(len(num)):\n",
    "    \n",
    "        if visited[i] == 1: \n",
    "            continue\n",
    "        \n",
    "        visited[i] = 1        \n",
    "        out.append(num[i])\n",
    "        print(out)\n",
    "        \n",
    "        permuteDFS(num, level + 1, visited, out, res);\n",
    "        out.pop()\n",
    "        \n",
    "        visited[i] = 0\n",
    "        \n",
    "pm_recursion([1,2,3])"
   ]
  },
  {
   "cell_type": "code",
   "execution_count": 44,
   "metadata": {},
   "outputs": [
    {
     "data": {
      "text/plain": [
       "[[1, 2, 3], [1, 3, 2], [2, 1, 3], [2, 3, 1], [3, 1, 2], [3, 2, 1]]"
      ]
     },
     "execution_count": 44,
     "metadata": {},
     "output_type": "execute_result"
    }
   ],
   "source": [
    "#in above, level just tells us we are done or not, we can do this by checking length using len\n",
    "\n",
    "def pm_recursion(L):\n",
    "    res = []\n",
    "    out = []\n",
    "    \n",
    "    visited = [0]*len(L)\n",
    "    \n",
    "    permuteDFS(L, visited, out, res)\n",
    "    \n",
    "    return res\n",
    "\n",
    "def permuteDFS(num, visited, out, res):\n",
    "    if len(out) == len(num):\n",
    "        res.append(out[:])\n",
    "        \n",
    "        return\n",
    "    \n",
    "    for i in range(len(num)):\n",
    "    \n",
    "        if visited[i] == 1: \n",
    "            continue\n",
    "        \n",
    "        visited[i] = 1        \n",
    "        out.append(num[i])\n",
    "        \n",
    "        permuteDFS(num, visited, out, res);\n",
    "        out.pop()\n",
    "        \n",
    "        visited[i] = 0\n",
    "        \n",
    "pm_recursion([1,2,3])"
   ]
  },
  {
   "cell_type": "markdown",
   "metadata": {},
   "source": [
    "# deal with one number a time\n",
    "当n=1时，数组中只有一个数a1，其全排列只有一种，即为a1\n",
    "\n",
    "当n=2时，数组中此时有a1a2，其全排列有两种，a1a2和a2a1，那么此时我们考虑和上面那种情况的关系，我们发现，其实就是在a1的前后两个位置分别加入了a2"
   ]
  },
  {
   "cell_type": "markdown",
   "metadata": {},
   "source": [
    "### permutations"
   ]
  },
  {
   "cell_type": "code",
   "execution_count": 39,
   "metadata": {},
   "outputs": [
    {
     "data": {
      "text/plain": [
       "[[3, 2, 1], [2, 3, 1], [2, 1, 3], [3, 1, 2], [1, 3, 2], [1, 2, 3]]"
      ]
     },
     "execution_count": 39,
     "metadata": {},
     "output_type": "execute_result"
    }
   ],
   "source": [
    "# still leetcode 46\n",
    "#this is itteration soltuion\n",
    "def pm(L):\n",
    "    res = [[L[0]]]\n",
    "    \n",
    "    for x in L[1:]: #add a new number each time\n",
    "        tmp_res = []\n",
    "        for l in res:\n",
    "            for i in range(len(l)+1): #add at each position\n",
    "                \n",
    "                l.insert(i,x)\n",
    "                tmp_res.append(l[:])\n",
    "                l.pop(i) #get back original list\n",
    "\n",
    "        res = tmp_res[:]\n",
    "        \n",
    "    return res   \n",
    "    \n",
    "pm([1,2,3])"
   ]
  },
  {
   "cell_type": "markdown",
   "metadata": {},
   "source": [
    "### 78 subsets"
   ]
  },
  {
   "cell_type": "markdown",
   "metadata": {},
   "source": [
    "### 17_Letter_Combinations_of_Phone_Number"
   ]
  },
  {
   "cell_type": "code",
   "execution_count": null,
   "metadata": {},
   "outputs": [],
   "source": [
    "#each additon number will add each letter to all solutions so far\n",
    "#[a,b,c]\n",
    "#[ad, bd, cd], and .....\n",
    "d = {2:['a', 'b', 'c'],\n",
    "     3:['d', 'e', 'f'],\n",
    "     4:['g', 'h', 'i'],\n",
    "     5:['j', 'k', 'l'],\n",
    "     6:['m', 'n', 'o'],\n",
    "     7:['p', 'q', 'r', 's'],\n",
    "     8:['t', 'u', 'v'],\n",
    "     9:['w', 'x', 'y', 'z']\n",
    "    }\n",
    "\n",
    "def lcpn(L):\n",
    "    cb = []\n",
    "    for index, n in enumerate(L):\n",
    "        if index == 0:\n",
    "            cb = d[n]\n",
    "        else:\n",
    "            cb = backtrack(cb, n)\n",
    "    \n",
    "    return cb\n",
    "        \n",
    "def backtrack(cb, n):\n",
    "    tmp = []\n",
    "    for l in d[n]:\n",
    "        tmp = tmp + [x + l for x in cb]\n",
    "        \n",
    "    return tmp\n",
    "  \n",
    "lcpn([2,3])"
   ]
  },
  {
   "cell_type": "code",
   "execution_count": null,
   "metadata": {},
   "outputs": [],
   "source": [
    "# recursive, still use above observation\n",
    "def pn(L):\n",
    "    if len(L) == 0:\n",
    "        return []\n",
    "    elif len(L) == 1:\n",
    "         return d[L[0]]\n",
    "    else:\n",
    "        tmp = []\n",
    "        for l in d[L[-1]]:\n",
    "            tmp = tmp + [x + l for x in pn(L[:-1])]\n",
    "        return tmp\n",
    "    \n",
    "pn([2,3])  "
   ]
  }
 ],
 "metadata": {
  "kernelspec": {
   "display_name": "Python 3",
   "language": "python",
   "name": "python3"
  },
  "language_info": {
   "codemirror_mode": {
    "name": "ipython",
    "version": 3
   },
   "file_extension": ".py",
   "mimetype": "text/x-python",
   "name": "python",
   "nbconvert_exporter": "python",
   "pygments_lexer": "ipython3",
   "version": "3.7.3"
  }
 },
 "nbformat": 4,
 "nbformat_minor": 2
}
