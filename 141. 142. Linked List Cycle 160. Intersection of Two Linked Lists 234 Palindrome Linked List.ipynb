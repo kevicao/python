{
 "cells": [
  {
   "cell_type": "code",
   "execution_count": 16,
   "metadata": {},
   "outputs": [
    {
     "data": {
      "text/plain": [
       "(True, 2)"
      ]
     },
     "execution_count": 16,
     "metadata": {},
     "output_type": "execute_result"
    }
   ],
   "source": [
    "\n",
    "class Node: \n",
    "    def __init__(self, data): \n",
    "        self.data = data \n",
    "        self.next = None\n",
    "\n",
    "\n",
    "def llc(node):\n",
    "    flag = -1\n",
    "    if node.next is None:\n",
    "        flag = False\n",
    "    \n",
    "    pointer1 = node.next\n",
    "    pointer2 = node.next.next\n",
    "    while pointer2 is not None:\n",
    "#         print(pointer1.data, pointer2.data)\n",
    "        if pointer1 == pointer2: \n",
    "            flag = True\n",
    "\n",
    "            pointer1 = head\n",
    "            while pointer1 != pointer2:\n",
    "                pointer1 = pointer1.next\n",
    "                pointer2 = pointer2.next\n",
    "                \n",
    "            break\n",
    "\n",
    "            \n",
    "        pointer1 = pointer1.next\n",
    "        pointer2 = pointer2.next.next\n",
    "               \n",
    "    return (flag, pointer1.data)\n",
    "\n",
    "head = Node(3)\n",
    "head.next = Node(2)\n",
    "head.next.next = Node(0)\n",
    "head.next.next.next = Node(-4)\n",
    "head.next.next.next.next = head.next\n",
    "\n",
    "# head = Node(1)\n",
    "# head.next = Node(2)\n",
    "# head.next.next = head\n",
    "\n",
    "# head = Node(1)\n",
    "# head.next = Node(2)\n",
    "\n",
    "llc(head)"
   ]
  },
  {
   "cell_type": "markdown",
   "metadata": {},
   "source": [
    "因为快指针每次走2，慢指针每次走1，快指针走的距离是慢指针的两倍。而快指针又比慢指针多走了一圈。所以head到环的起点+环的起点到他们相遇的点的距离 与 环一圈的距离相等。现在重新开始，head运行到环起点 和 相遇点到环起点 的距离也是相等的，相当于他们同时减掉了 环的起点到他们相遇的点的距离"
   ]
  },
  {
   "cell_type": "code",
   "execution_count": null,
   "metadata": {},
   "outputs": [],
   "source": [
    "#234 Given a singly linked list, determine if it is a palindrome\n",
    "# find middle node using two pointer traveling at speed 1 and 2\n",
    "# reverse second half and see if equal to first half\n",
    "\n",
    "https://www.geeksforgeeks.org/function-to-check-if-a-singly-linked-list-is-palindrome/"
   ]
  }
 ],
 "metadata": {
  "kernelspec": {
   "display_name": "Python 3",
   "language": "python",
   "name": "python3"
  },
  "language_info": {
   "codemirror_mode": {
    "name": "ipython",
    "version": 3
   },
   "file_extension": ".py",
   "mimetype": "text/x-python",
   "name": "python",
   "nbconvert_exporter": "python",
   "pygments_lexer": "ipython3",
   "version": "3.7.3"
  }
 },
 "nbformat": 4,
 "nbformat_minor": 2
}
