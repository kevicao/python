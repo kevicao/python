{
 "cells": [
  {
   "cell_type": "code",
   "execution_count": 20,
   "metadata": {},
   "outputs": [
    {
     "data": {
      "text/plain": [
       "([[3], [9, 20], [15, 7]], 3)"
      ]
     },
     "execution_count": 20,
     "metadata": {},
     "output_type": "execute_result"
    }
   ],
   "source": [
    "#pq store the index of node in next level, so process pq one by one and build next pq (tmp_l)\n",
    "def level_trav(L):\n",
    "    pq = [0]\n",
    "    ress = []\n",
    "    res = []\n",
    "    \n",
    "    tmp_l = []\n",
    "    \n",
    "    depth = 0\n",
    "\n",
    "    while pq:\n",
    "        depth += 1\n",
    "        for i in range(len(pq)): \n",
    "\n",
    "            tmp = pq[i]\n",
    "            res.append(L[tmp])\n",
    "\n",
    "            if tmp*2 + 1 < len(L) and L[tmp*2+1] is not None:\n",
    "                tmp_l.append(tmp*2 + 1)\n",
    "            \n",
    "            if tmp*2 + 2 < len(L) and L[tmp*2+2] is not None:\n",
    "                tmp_l.append(tmp*2 + 2)\n",
    "                \n",
    "        ress.append(res)\n",
    "        res = []\n",
    "        pq = tmp_l[:]\n",
    "        tmp_l = []\n",
    "            \n",
    "    return (ress, depth)\n",
    "    \n",
    "level_trav([3,9,20,None,None,15,7])"
   ]
  },
  {
   "cell_type": "code",
   "execution_count": null,
   "metadata": {},
   "outputs": [],
   "source": []
  },
  {
   "cell_type": "code",
   "execution_count": null,
   "metadata": {},
   "outputs": [],
   "source": []
  }
 ],
 "metadata": {
  "kernelspec": {
   "display_name": "Python 3",
   "language": "python",
   "name": "python3"
  },
  "language_info": {
   "codemirror_mode": {
    "name": "ipython",
    "version": 3
   },
   "file_extension": ".py",
   "mimetype": "text/x-python",
   "name": "python",
   "nbconvert_exporter": "python",
   "pygments_lexer": "ipython3",
   "version": "3.7.3"
  }
 },
 "nbformat": 4,
 "nbformat_minor": 2
}
